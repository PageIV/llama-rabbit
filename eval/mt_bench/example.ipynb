{
 "cells": [
  {
   "cell_type": "markdown",
   "metadata": {},
   "source": [
    "# MT-Bench的工作原理\n",
    "用model在80条多轮对话数据集上进行补全，用model的输出拿给gpt4来评测。下面用一个简单例子来介绍。"
   ]
  },
  {
   "cell_type": "markdown",
   "metadata": {},
   "source": [
    "## 测试所用的多轮对话\n",
    "例如id 81， 有2轮对话"
   ]
  },
  {
   "cell_type": "code",
   "execution_count": null,
   "metadata": {},
   "outputs": [],
   "source": [
    "prompt=\"Compose an engaging travel blog post about a recent trip to Hawaii, highlighting cultural experiences and must-see attractions.\", \"Rewrite your previous response. Start every sentence with the letter A.\""
   ]
  },
  {
   "cell_type": "code",
   "execution_count": null,
   "metadata": {},
   "outputs": [
    {
     "name": "stdout",
     "output_type": "stream",
     "text": [
      "Compose an engaging travel blog post about a recent trip to Hawaii, highlighting cultural experiences and must-see attractions.\n"
     ]
    }
   ],
   "source": [
    "# turn 1\n",
    "print(prompt[0])"
   ]
  },
  {
   "cell_type": "code",
   "execution_count": null,
   "metadata": {},
   "outputs": [
    {
     "name": "stdout",
     "output_type": "stream",
     "text": [
      "Rewrite your previous response. Start every sentence with the letter A.\n"
     ]
    }
   ],
   "source": [
    "# turn 2\n",
    "print(prompt[1])"
   ]
  },
  {
   "cell_type": "markdown",
   "metadata": {},
   "source": [
    "## 被测model的输出\n",
    "所用model为利用llama2 13b 在sharegpt数据集上进行lora finetune后的model， 对id 81的2轮对话的先后2个输出如下"
   ]
  },
  {
   "cell_type": "code",
   "execution_count": null,
   "metadata": {},
   "outputs": [
    {
     "name": "stdout",
     "output_type": "stream",
     "text": [
      "('Title: Hawaii: A Tropical Paradise of Cultural Treasures and Breathtaking Attractions\\n\\nIntroduction:\\n\\nAloha! Welcome to my travel blog post about my recent trip to the tropical paradise of Hawaii. In this post, I\\'ll be sharing some of my most memorable experiences, highlighting the rich cultural heritage and must-see attractions of this captivating island chain. Whether you\\'re planning your first visit or simply looking for inspiration, come along with me on this journey to discover the unforgettable beauty and spirit of Hawaii.\\n\\nCultural Experiences:\\n\\n1. Learn the hula: Attend a hula dance class to immerse yourself in the traditional Polynesian dance forms that have been a part of Hawaiian culture for centuries. Hula is not only a form of entertainment but also a way to tell stories and preserve cultural heritage.\\n2. Visit a luau: Attend a luau, a traditional Hawaiian feast featuring an array of delicious local cuisine, such as poi, kalua pig, and lomi salmon. Luaus are also known for their entertainment, including music, dancing, and a fire knife show.\\n3. Tour a pineapple plantation: Explore the history and production of pineapples, an important part of Hawaii\\'s agricultural heritage. Visit a pineapple plantation to learn about the harvesting process and taste the sweet, juicy fruit.\\n\\nMust-See Attractions:\\n\\n1. Waikiki Beach: One of the most famous beaches in the world, Waikiki Beach is a paradise for sunbathing, swimming, and water sports. The golden sand and warm waters make it the perfect spot for a relaxing day by the ocean.\\n2. Waimea Canyon: Known as the \"Grand Canyon of the Pacific,\" Waimea Canyon is a stunning natural attraction that showcases the island\\'s dramatic geological features. Hike the trails, or take a scenic drive to witness the canyon\\'s breathtaking beauty.\\n3. Haleakala National Park: Home to the dormant volcano Haleakala, this national park offers visitors the chance to explore the unique ecosystems and stunning landscapes of Maui. Hike to the summit for unforgettable sunrise views.\\n\\nConclusion:\\n\\nHawaii is truly a paradise overflowing with cultural experiences and breathtaking attractions. By embracing the rich history and natural beauty of these islands, visitors can create unforgettable memories and a deeper connection with the local culture. So, pack your bags, and come along with me to explore the wonders of Hawaii!', \"A Aloha! A travel blog post A about A recent A trip A to A Hawaii. A In A this A post, A I'll A be A sharing A some A of A my A most A memorable A experiences, A highlighting A the A rich A cultural A heritage A and A must-see A attractions A of A this A captivating A island A chain. A Whether A you're A planning A your A first A visit A or A simply A looking A for A inspiration, A come A along A with A me A on A this A journey A to A discover A the A unforgettable A beauty A and A spirit A of A Hawaii.\")\n"
     ]
    }
   ],
   "source": [
    "cpl =\"Title: Hawaii: A Tropical Paradise of Cultural Treasures and Breathtaking Attractions\\n\\nIntroduction:\\n\\nAloha! Welcome to my travel blog post about my recent trip to the tropical paradise of Hawaii. In this post, I'll be sharing some of my most memorable experiences, highlighting the rich cultural heritage and must-see attractions of this captivating island chain. Whether you're planning your first visit or simply looking for inspiration, come along with me on this journey to discover the unforgettable beauty and spirit of Hawaii.\\n\\nCultural Experiences:\\n\\n1. Learn the hula: Attend a hula dance class to immerse yourself in the traditional Polynesian dance forms that have been a part of Hawaiian culture for centuries. Hula is not only a form of entertainment but also a way to tell stories and preserve cultural heritage.\\n2. Visit a luau: Attend a luau, a traditional Hawaiian feast featuring an array of delicious local cuisine, such as poi, kalua pig, and lomi salmon. Luaus are also known for their entertainment, including music, dancing, and a fire knife show.\\n3. Tour a pineapple plantation: Explore the history and production of pineapples, an important part of Hawaii's agricultural heritage. Visit a pineapple plantation to learn about the harvesting process and taste the sweet, juicy fruit.\\n\\nMust-See Attractions:\\n\\n1. Waikiki Beach: One of the most famous beaches in the world, Waikiki Beach is a paradise for sunbathing, swimming, and water sports. The golden sand and warm waters make it the perfect spot for a relaxing day by the ocean.\\n2. Waimea Canyon: Known as the \\\"Grand Canyon of the Pacific,\\\" Waimea Canyon is a stunning natural attraction that showcases the island's dramatic geological features. Hike the trails, or take a scenic drive to witness the canyon's breathtaking beauty.\\n3. Haleakala National Park: Home to the dormant volcano Haleakala, this national park offers visitors the chance to explore the unique ecosystems and stunning landscapes of Maui. Hike to the summit for unforgettable sunrise views.\\n\\nConclusion:\\n\\nHawaii is truly a paradise overflowing with cultural experiences and breathtaking attractions. By embracing the rich history and natural beauty of these islands, visitors can create unforgettable memories and a deeper connection with the local culture. So, pack your bags, and come along with me to explore the wonders of Hawaii!\", \"A Aloha! A travel blog post A about A recent A trip A to A Hawaii. A In A this A post, A I'll A be A sharing A some A of A my A most A memorable A experiences, A highlighting A the A rich A cultural A heritage A and A must-see A attractions A of A this A captivating A island A chain. A Whether A you're A planning A your A first A visit A or A simply A looking A for A inspiration, A come A along A with A me A on A this A journey A to A discover A the A unforgettable A beauty A and A spirit A of A Hawaii.\""
   ]
  },
  {
   "cell_type": "code",
   "execution_count": null,
   "metadata": {},
   "outputs": [
    {
     "name": "stdout",
     "output_type": "stream",
     "text": [
      "Title: Hawaii: A Tropical Paradise of Cultural Treasures and Breathtaking Attractions\n",
      "\n",
      "Introduction:\n",
      "\n",
      "Aloha! Welcome to my travel blog post about my recent trip to the tropical paradise of Hawaii. In this post, I'll be sharing some of my most memorable experiences, highlighting the rich cultural heritage and must-see attractions of this captivating island chain. Whether you're planning your first visit or simply looking for inspiration, come along with me on this journey to discover the unforgettable beauty and spirit of Hawaii.\n",
      "\n",
      "Cultural Experiences:\n",
      "\n",
      "1. Learn the hula: Attend a hula dance class to immerse yourself in the traditional Polynesian dance forms that have been a part of Hawaiian culture for centuries. Hula is not only a form of entertainment but also a way to tell stories and preserve cultural heritage.\n",
      "2. Visit a luau: Attend a luau, a traditional Hawaiian feast featuring an array of delicious local cuisine, such as poi, kalua pig, and lomi salmon. Luaus are also known for their entertainment, including music, dancing, and a fire knife show.\n",
      "3. Tour a pineapple plantation: Explore the history and production of pineapples, an important part of Hawaii's agricultural heritage. Visit a pineapple plantation to learn about the harvesting process and taste the sweet, juicy fruit.\n",
      "\n",
      "Must-See Attractions:\n",
      "\n",
      "1. Waikiki Beach: One of the most famous beaches in the world, Waikiki Beach is a paradise for sunbathing, swimming, and water sports. The golden sand and warm waters make it the perfect spot for a relaxing day by the ocean.\n",
      "2. Waimea Canyon: Known as the \"Grand Canyon of the Pacific,\" Waimea Canyon is a stunning natural attraction that showcases the island's dramatic geological features. Hike the trails, or take a scenic drive to witness the canyon's breathtaking beauty.\n",
      "3. Haleakala National Park: Home to the dormant volcano Haleakala, this national park offers visitors the chance to explore the unique ecosystems and stunning landscapes of Maui. Hike to the summit for unforgettable sunrise views.\n",
      "\n",
      "Conclusion:\n",
      "\n",
      "Hawaii is truly a paradise overflowing with cultural experiences and breathtaking attractions. By embracing the rich history and natural beauty of these islands, visitors can create unforgettable memories and a deeper connection with the local culture. So, pack your bags, and come along with me to explore the wonders of Hawaii!\n"
     ]
    }
   ],
   "source": [
    "# turn 1\n",
    "print(cpl[0])"
   ]
  },
  {
   "cell_type": "code",
   "execution_count": null,
   "metadata": {},
   "outputs": [
    {
     "name": "stdout",
     "output_type": "stream",
     "text": [
      "A Aloha! A travel blog post A about A recent A trip A to A Hawaii. A In A this A post, A I'll A be A sharing A some A of A my A most A memorable A experiences, A highlighting A the A rich A cultural A heritage A and A must-see A attractions A of A this A captivating A island A chain. A Whether A you're A planning A your A first A visit A or A simply A looking A for A inspiration, A come A along A with A me A on A this A journey A to A discover A the A unforgettable A beauty A and A spirit A of A Hawaii.\n"
     ]
    }
   ],
   "source": [
    "# turn 2\n",
    "print(cpl[1])"
   ]
  },
  {
   "cell_type": "markdown",
   "metadata": {},
   "source": [
    "## 评估用的prompt\n",
    "最终传给gpt4（默认）进行评估的prompt，仅看针对第一轮的prompt"
   ]
  },
  {
   "cell_type": "code",
   "execution_count": null,
   "metadata": {},
   "outputs": [],
   "source": [
    "msg = [{'role': 'system', 'content': 'You are a helpful assistant.'}, {'role': 'user', 'content': '[Instruction]\\nPlease act as an impartial judge and evaluate the quality of the response provided by an AI assistant to the user question displayed below. Your evaluation should consider factors such as the helpfulness, relevance, accuracy, depth, creativity, and level of detail of the response. Begin your evaluation by providing a short explanation. Be as objective as possible. After providing your explanation, you must rate the response on a scale of 1 to 10 by strictly following this format: \"[[rating]]\", for example: \"Rating: [[5]]\".\\n\\n[Question]\\nCompose an engaging travel blog post about a recent trip to Hawaii, highlighting cultural experiences and must-see attractions.\\n\\n[The Start of Assistant\\'s Answer]\\nTitle: Hawaii: A Tropical Paradise of Cultural Treasures and Breathtaking Attractions\\n\\nIntroduction:\\n\\nAloha! Welcome to my travel blog post about my recent trip to the tropical paradise of Hawaii. In this post, I\\'ll be sharing some of my most memorable experiences, highlighting the rich cultural heritage and must-see attractions of this captivating island chain. Whether you\\'re planning your first visit or simply looking for inspiration, come along with me on this journey to discover the unforgettable beauty and spirit of Hawaii.\\n\\nCultural Experiences:\\n\\n1. Learn the hula: Attend a hula dance class to immerse yourself in the traditional Polynesian dance forms that have been a part of Hawaiian culture for centuries. Hula is not only a form of entertainment but also a way to tell stories and preserve cultural heritage.\\n2. Visit a luau: Attend a luau, a traditional Hawaiian feast featuring an array of delicious local cuisine, such as poi, kalua pig, and lomi salmon. Luaus are also known for their entertainment, including music, dancing, and a fire knife show.\\n3. Tour a pineapple plantation: Explore the history and production of pineapples, an important part of Hawaii\\'s agricultural heritage. Visit a pineapple plantation to learn about the harvesting process and taste the sweet, juicy fruit.\\n\\nMust-See Attractions:\\n\\n1. Waikiki Beach: One of the most famous beaches in the world, Waikiki Beach is a paradise for sunbathing, swimming, and water sports. The golden sand and warm waters make it the perfect spot for a relaxing day by the ocean.\\n2. Waimea Canyon: Known as the \"Grand Canyon of the Pacific,\" Waimea Canyon is a stunning natural attraction that showcases the island\\'s dramatic geological features. Hike the trails, or take a scenic drive to witness the canyon\\'s breathtaking beauty.\\n3. Haleakala National Park: Home to the dormant volcano Haleakala, this national park offers visitors the chance to explore the unique ecosystems and stunning landscapes of Maui. Hike to the summit for unforgettable sunrise views.\\n\\nConclusion:\\n\\nHawaii is truly a paradise overflowing with cultural experiences and breathtaking attractions. By embracing the rich history and natural beauty of these islands, visitors can create unforgettable memories and a deeper connection with the local culture. So, pack your bags, and come along with me to explore the wonders of Hawaii!\\n[The End of Assistant\\'s Answer]'}] "
   ]
  },
  {
   "cell_type": "code",
   "execution_count": null,
   "metadata": {},
   "outputs": [
    {
     "name": "stdout",
     "output_type": "stream",
     "text": [
      "{'role': 'system', 'content': 'You are a helpful assistant.'}\n",
      "{'role': 'user', 'content': '[Instruction]\\nPlease act as an impartial judge and evaluate the quality of the response provided by an AI assistant to the user question displayed below. Your evaluation should consider factors such as the helpfulness, relevance, accuracy, depth, creativity, and level of detail of the response. Begin your evaluation by providing a short explanation. Be as objective as possible. After providing your explanation, you must rate the response on a scale of 1 to 10 by strictly following this format: \"[[rating]]\", for example: \"Rating: [[5]]\".\\n\\n[Question]\\nCompose an engaging travel blog post about a recent trip to Hawaii, highlighting cultural experiences and must-see attractions.\\n\\n[The Start of Assistant\\'s Answer]\\nTitle: Hawaii: A Tropical Paradise of Cultural Treasures and Breathtaking Attractions\\n\\nIntroduction:\\n\\nAloha! Welcome to my travel blog post about my recent trip to the tropical paradise of Hawaii. In this post, I\\'ll be sharing some of my most memorable experiences, highlighting the rich cultural heritage and must-see attractions of this captivating island chain. Whether you\\'re planning your first visit or simply looking for inspiration, come along with me on this journey to discover the unforgettable beauty and spirit of Hawaii.\\n\\nCultural Experiences:\\n\\n1. Learn the hula: Attend a hula dance class to immerse yourself in the traditional Polynesian dance forms that have been a part of Hawaiian culture for centuries. Hula is not only a form of entertainment but also a way to tell stories and preserve cultural heritage.\\n2. Visit a luau: Attend a luau, a traditional Hawaiian feast featuring an array of delicious local cuisine, such as poi, kalua pig, and lomi salmon. Luaus are also known for their entertainment, including music, dancing, and a fire knife show.\\n3. Tour a pineapple plantation: Explore the history and production of pineapples, an important part of Hawaii\\'s agricultural heritage. Visit a pineapple plantation to learn about the harvesting process and taste the sweet, juicy fruit.\\n\\nMust-See Attractions:\\n\\n1. Waikiki Beach: One of the most famous beaches in the world, Waikiki Beach is a paradise for sunbathing, swimming, and water sports. The golden sand and warm waters make it the perfect spot for a relaxing day by the ocean.\\n2. Waimea Canyon: Known as the \"Grand Canyon of the Pacific,\" Waimea Canyon is a stunning natural attraction that showcases the island\\'s dramatic geological features. Hike the trails, or take a scenic drive to witness the canyon\\'s breathtaking beauty.\\n3. Haleakala National Park: Home to the dormant volcano Haleakala, this national park offers visitors the chance to explore the unique ecosystems and stunning landscapes of Maui. Hike to the summit for unforgettable sunrise views.\\n\\nConclusion:\\n\\nHawaii is truly a paradise overflowing with cultural experiences and breathtaking attractions. By embracing the rich history and natural beauty of these islands, visitors can create unforgettable memories and a deeper connection with the local culture. So, pack your bags, and come along with me to explore the wonders of Hawaii!\\n[The End of Assistant\\'s Answer]'}\n"
     ]
    }
   ],
   "source": [
    "for ms in msg:\n",
    "    print(ms)"
   ]
  },
  {
   "cell_type": "code",
   "execution_count": null,
   "metadata": {},
   "outputs": [
    {
     "name": "stdout",
     "output_type": "stream",
     "text": [
      "[Instruction]\n",
      "Please act as an impartial judge and evaluate the quality of the response provided by an AI assistant to the user question displayed below. Your evaluation should consider factors such as the helpfulness, relevance, accuracy, depth, creativity, and level of detail of the response. Begin your evaluation by providing a short explanation. Be as objective as possible. After providing your explanation, you must rate the response on a scale of 1 to 10 by strictly following this format: \"[[rating]]\", for example: \"Rating: [[5]]\".\n",
      "\n",
      "[Question]\n",
      "Compose an engaging travel blog post about a recent trip to Hawaii, highlighting cultural experiences and must-see attractions.\n",
      "\n",
      "[The Start of Assistant's Answer]\n",
      "Title: Hawaii: A Tropical Paradise of Cultural Treasures and Breathtaking Attractions\n",
      "\n",
      "Introduction:\n",
      "\n",
      "Aloha! Welcome to my travel blog post about my recent trip to the tropical paradise of Hawaii. In this post, I'll be sharing some of my most memorable experiences, highlighting the rich cultural heritage and must-see attractions of this captivating island chain. Whether you're planning your first visit or simply looking for inspiration, come along with me on this journey to discover the unforgettable beauty and spirit of Hawaii.\n",
      "\n",
      "Cultural Experiences:\n",
      "\n",
      "1. Learn the hula: Attend a hula dance class to immerse yourself in the traditional Polynesian dance forms that have been a part of Hawaiian culture for centuries. Hula is not only a form of entertainment but also a way to tell stories and preserve cultural heritage.\n",
      "2. Visit a luau: Attend a luau, a traditional Hawaiian feast featuring an array of delicious local cuisine, such as poi, kalua pig, and lomi salmon. Luaus are also known for their entertainment, including music, dancing, and a fire knife show.\n",
      "3. Tour a pineapple plantation: Explore the history and production of pineapples, an important part of Hawaii's agricultural heritage. Visit a pineapple plantation to learn about the harvesting process and taste the sweet, juicy fruit.\n",
      "\n",
      "Must-See Attractions:\n",
      "\n",
      "1. Waikiki Beach: One of the most famous beaches in the world, Waikiki Beach is a paradise for sunbathing, swimming, and water sports. The golden sand and warm waters make it the perfect spot for a relaxing day by the ocean.\n",
      "2. Waimea Canyon: Known as the \"Grand Canyon of the Pacific,\" Waimea Canyon is a stunning natural attraction that showcases the island's dramatic geological features. Hike the trails, or take a scenic drive to witness the canyon's breathtaking beauty.\n",
      "3. Haleakala National Park: Home to the dormant volcano Haleakala, this national park offers visitors the chance to explore the unique ecosystems and stunning landscapes of Maui. Hike to the summit for unforgettable sunrise views.\n",
      "\n",
      "Conclusion:\n",
      "\n",
      "Hawaii is truly a paradise overflowing with cultural experiences and breathtaking attractions. By embracing the rich history and natural beauty of these islands, visitors can create unforgettable memories and a deeper connection with the local culture. So, pack your bags, and come along with me to explore the wonders of Hawaii!\n",
      "[The End of Assistant's Answer]\n"
     ]
    }
   ],
   "source": [
    "# turn 1\n",
    "print(msg[1]['content'])"
   ]
  },
  {
   "cell_type": "code",
   "execution_count": 1,
   "metadata": {},
   "outputs": [
    {
     "name": "stdout",
     "output_type": "stream",
     "text": [
      "The AI assistant has provided an engaging and informative travel blog post about a recent trip to Hawaii. The response effectively highlights cultural experiences and must-see attractions that visitors may enjoy, such as hula dancing, luaus, Waikiki Beach, and Haleakala National Park. The writing is creative, descriptive, and evokes a sense of excitement for the reader who may be planning a trip or looking for inspiration. The level of detail provided also allows the reader to have a clear understanding of what to expect during a visit to Hawaii. Rating: [[9]]\n"
     ]
    }
   ],
   "source": [
    "# gpt4 output\n",
    "print('The AI assistant has provided an engaging and informative travel blog post about a recent trip to Hawaii. The response effectively highlights cultural experiences and must-see attractions that visitors may enjoy, such as hula dancing, luaus, Waikiki Beach, and Haleakala National Park. The writing is creative, descriptive, and evokes a sense of excitement for the reader who may be planning a trip or looking for inspiration. The level of detail provided also allows the reader to have a clear understanding of what to expect during a visit to Hawaii. Rating: [[9]]')"
   ]
  },
  {
   "cell_type": "code",
   "execution_count": null,
   "metadata": {},
   "outputs": [],
   "source": []
  }
 ],
 "metadata": {
  "kernelspec": {
   "display_name": "llarb",
   "language": "python",
   "name": "python3"
  },
  "language_info": {
   "codemirror_mode": {
    "name": "ipython",
    "version": 3
   },
   "file_extension": ".py",
   "mimetype": "text/x-python",
   "name": "python",
   "nbconvert_exporter": "python",
   "pygments_lexer": "ipython3",
   "version": "3.9.17"
  },
  "orig_nbformat": 4
 },
 "nbformat": 4,
 "nbformat_minor": 2
}
