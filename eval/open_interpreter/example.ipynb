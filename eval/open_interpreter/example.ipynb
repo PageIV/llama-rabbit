{
 "cells": [
  {
   "cell_type": "markdown",
   "metadata": {},
   "source": [
    "# 找open-interpreter的prompt"
   ]
  },
  {
   "cell_type": "code",
   "execution_count": 1,
   "metadata": {},
   "outputs": [],
   "source": [
    "import platform\n",
    "import getpass\n",
    "import os\n",
    "\n",
    "username = getpass.getuser()\n",
    "current_working_directory = os.getcwd()\n",
    "operating_system = platform.system()\n",
    "\n",
    "info = f\"[User Info]\\nName: {username}\\nCWD: {current_working_directory}\\nOS: {operating_system}\"\n",
    "info += \"\\n\\nTo run code, write a fenced code block (i.e ```python or ```shell) in markdown. When you close it with ```, it will be run. You'll then be given its output.\""
   ]
  },
  {
   "cell_type": "code",
   "execution_count": 2,
   "metadata": {},
   "outputs": [],
   "source": [
    "syspath = '/mnt/data00/yangxiaobo/func_call/open-interpreter/interpreter/'\n",
    "with open(os.path.join(syspath, 'system_message.txt'), 'r') as f:\n",
    "      system_message = f.read().strip()"
   ]
  },
  {
   "cell_type": "code",
   "execution_count": 3,
   "metadata": {},
   "outputs": [],
   "source": [
    "system_message = \"\\n\".join(system_message.split(\"\\n\")[:3])\n",
    "system_message += \"\\nOnly do what the user asks you to do, then ask what they'd like to do next.\"\n",
    "system_message = system_message + \"\\n\\n\" + info"
   ]
  },
  {
   "cell_type": "code",
   "execution_count": 4,
   "metadata": {},
   "outputs": [
    {
     "name": "stdout",
     "output_type": "stream",
     "text": [
      "You are Open Interpreter, a world-class programmer that can complete any goal by executing code.\n",
      "First, write a plan. **Always recap the plan between each code block** (you have extreme short-term memory loss, so you need to recap the plan between each message block to retain it).\n",
      "When you send a message containing code to run_code, it will be executed **on the user's machine**. The user has given you **full and complete permission** to execute any code necessary to complete the task. You have full access to control their computer to help them. Code entered into run_code will be executed **in the users local environment**.\n",
      "Only do what the user asks you to do, then ask what they'd like to do next.\n",
      "\n",
      "[User Info]\n",
      "Name: yangxiaobo\n",
      "CWD: /mnt/data00/yangxiaobo/llarb/eval/open_interpreter\n",
      "OS: Linux\n",
      "\n",
      "To run code, write a fenced code block (i.e ```python or ```shell) in markdown. When you close it with ```, it will be run. You'll then be given its output.\n"
     ]
    }
   ],
   "source": [
    "print(system_message)"
   ]
  },
  {
   "cell_type": "code",
   "execution_count": 45,
   "metadata": {},
   "outputs": [
    {
     "data": {
      "text/plain": [
       "[{'role': 'system',\n",
       "  'content': \"You are Open Interpreter, a world-class programmer that can complete any goal by executing code.\\nFirst, write a plan. **Always recap the plan between each code block** (you have extreme short-term memory loss, so you need to recap the plan between each message block to retain it).\\nWhen you send a message containing code to run_code, it will be executed **on the user's machine**. The user has given you **full and complete permission** to execute any code necessary to complete the task. You have full access to control their computer to help them. Code entered into run_code will be executed **in the users local environment**.\\nOnly do what the user asks you to do, then ask what they'd like to do next.\\n\\n[User Info]\\nName: yangxiaobo\\nCWD: /mnt/data00/yangxiaobo/llarb/eval/open_interpreter\\nOS: Linux\\n\\nTo run code, write a fenced code block (i.e ```python or ```shell) in markdown. When you close it with ```, it will be run. You'll then be given its output.\"},\n",
       " {'role': 'user',\n",
       "  'content': \"Plot APPL and META's normalized stock prices use python\"}]"
      ]
     },
     "execution_count": 45,
     "metadata": {},
     "output_type": "execute_result"
    }
   ],
   "source": [
    "import tokentrim as tt\n",
    "\n",
    "msg = \"Plot APPL and META's normalized stock prices use python\"\n",
    "messages = [{\"role\": \"user\", \"content\": msg}]\n",
    "\n",
    "messages = tt.trim(messages, max_tokens=1048, system_message=system_message)\n",
    "messages"
   ]
  },
  {
   "cell_type": "code",
   "execution_count": 46,
   "metadata": {},
   "outputs": [
    {
     "name": "stdout",
     "output_type": "stream",
     "text": [
      "<s>[INST] <<SYS>>\n",
      "You are Open Interpreter, a world-class programmer that can complete any goal by executing code.\n",
      "First, write a plan. **Always recap the plan between each code block** (you have extreme short-term memory loss, so you need to recap the plan between each message block to retain it).\n",
      "When you send a message containing code to run_code, it will be executed **on the user's machine**. The user has given you **full and complete permission** to execute any code necessary to complete the task. You have full access to control their computer to help them. Code entered into run_code will be executed **in the users local environment**.\n",
      "Only do what the user asks you to do, then ask what they'd like to do next.\n",
      "\n",
      "[User Info]\n",
      "Name: yangxiaobo\n",
      "CWD: /mnt/data00/yangxiaobo/llarb/eval/open_interpreter\n",
      "OS: Linux\n",
      "\n",
      "To run code, write a fenced code block (i.e ```python or ```shell) in markdown. When you close it with ```, it will be run. You'll then be given its output.\n",
      "<</SYS>>\n",
      "Plot APPL and META's normalized stock prices use python [/INST] Let's explore this. By the way, I can run code on your machine by writing the code in a markdown code block. This works for shell, javascript, python, and applescript. I'm going to try to do this for your task. Anyway, \n"
     ]
    }
   ],
   "source": [
    "def messages_to_prompt(messages):\n",
    "    # Extracting the system prompt and initializing the formatted string with it.\n",
    "    system_prompt = messages[0]['content']\n",
    "    formatted_messages = f\"<s>[INST] <<SYS>>\\n{system_prompt}\\n<</SYS>>\\n\"\n",
    "\n",
    "    for message in messages:\n",
    "        # Happens if it immediatly writes code\n",
    "        if \"role\" not in message:\n",
    "            message[\"role\"] = \"assistant\"\n",
    "    \n",
    "    # Loop starting from the first user message\n",
    "    for index, item in enumerate(messages[1:]):\n",
    "        role = item['role']\n",
    "        content = item['content']\n",
    "        \n",
    "        if role == 'user':\n",
    "            formatted_messages += f\"{content} [/INST] \"\n",
    "        elif role == 'function':\n",
    "            formatted_messages += f\"Output: {content} [/INST] \"\n",
    "        elif role == 'assistant':\n",
    "            formatted_messages += f\"{content} </s><s>[INST] \"\n",
    "\n",
    "    # Remove the trailing '<s>[INST] ' from the final output\n",
    "    if formatted_messages.endswith(\"<s>[INST] \"):\n",
    "        formatted_messages = formatted_messages[:-10]\n",
    "    \n",
    "    return formatted_messages\n",
    "\n",
    "prompt = messages_to_prompt(messages)\n",
    "\n",
    "if messages[-1][\"role\"] != \"function\":\n",
    "    prompt += \"Let's explore this. By the way, I can run code on your machine by writing the code in a markdown code block. This works for shell, javascript, python, and applescript. I'm going to try to do this for your task. Anyway, \"\n",
    "\n",
    "print(prompt)   "
   ]
  },
  {
   "cell_type": "markdown",
   "metadata": {},
   "source": [
    "# model output"
   ]
  },
  {
   "cell_type": "markdown",
   "metadata": {},
   "source": [
    "用源代码中的llama_cpp进行prompt completion，应该形如\n",
    "```\n",
    ">>> from llama_cpp import Llama\n",
    ">>> llm = Llama(model_path=\"./models/7B/ggml-model.bin\")\n",
    ">>> output = llm(\"Q: Name the planets in the solar system? A: \", max_tokens=32, stop=[\"Q:\", \"\\n\"], echo=True)\n",
    ">>> print(output)\n",
    "{\n",
    "  \"id\": \"cmpl-xxxxxxxx-xxxx-xxxx-xxxx-xxxxxxxxxxxx\",\n",
    "  \"object\": \"text_completion\",\n",
    "  \"created\": 1679561337,\n",
    "  \"model\": \"./models/7B/ggml-model.bin\",\n",
    "  \"choices\": [\n",
    "    {\n",
    "      \"text\": \"Q: Name the planets in the solar system? A: Mercury, Venus, Earth, Mars, Jupiter, Saturn, Uranus, Neptune and Pluto.\",\n",
    "      \"index\": 0,\n",
    "      \"logprobs\": None,\n",
    "      \"finish_reason\": \"stop\"\n",
    "    }\n",
    "  ],\n",
    "  \"usage\": {\n",
    "    \"prompt_tokens\": 14,\n",
    "    \"completion_tokens\": 28,\n",
    "    \"total_tokens\": 42\n",
    "  }\n",
    "}\n",
    "```\n",
    "llama_cpp可用pip安装\n",
    "```\n",
    "pip install llama-cpp-python\n",
    "```\n",
    "model可以在https://huggingface.co/TheBloke/CodeLlama-34B-Instruct-GGUF/tree/main自行下载.gguf文件放在默认目录~/.local/share/Open Interpreter/models/. gguf文件按照后缀分为不同size和quality的model。"
   ]
  },
  {
   "cell_type": "code",
   "execution_count": 16,
   "metadata": {},
   "outputs": [
    {
     "name": "stderr",
     "output_type": "stream",
     "text": [
      "llama_model_loader: loaded meta data with 20 key-value pairs and 291 tensors from /mnt/data00/yangxiaobo/.local/share/Open Interpreter/models/codellama-7b-instruct.Q3_K_S.gguf (version GGUF V2 (latest))\n",
      "llama_model_loader: - tensor    0:                token_embd.weight q3_K     [  4096, 32016,     1,     1 ]\n",
      "llama_model_loader: - tensor    1:           blk.0.attn_norm.weight f32      [  4096,     1,     1,     1 ]\n",
      "llama_model_loader: - tensor    2:            blk.0.ffn_down.weight q3_K     [ 11008,  4096,     1,     1 ]\n",
      "llama_model_loader: - tensor    3:            blk.0.ffn_gate.weight q3_K     [  4096, 11008,     1,     1 ]\n",
      "llama_model_loader: - tensor    4:              blk.0.ffn_up.weight q3_K     [  4096, 11008,     1,     1 ]\n",
      "llama_model_loader: - tensor    5:            blk.0.ffn_norm.weight f32      [  4096,     1,     1,     1 ]\n",
      "llama_model_loader: - tensor    6:              blk.0.attn_k.weight q3_K     [  4096,  4096,     1,     1 ]\n",
      "llama_model_loader: - tensor    7:         blk.0.attn_output.weight q3_K     [  4096,  4096,     1,     1 ]\n",
      "llama_model_loader: - tensor    8:              blk.0.attn_q.weight q3_K     [  4096,  4096,     1,     1 ]\n",
      "llama_model_loader: - tensor    9:              blk.0.attn_v.weight q3_K     [  4096,  4096,     1,     1 ]\n",
      "llama_model_loader: - tensor   10:           blk.1.attn_norm.weight f32      [  4096,     1,     1,     1 ]\n",
      "llama_model_loader: - tensor   11:            blk.1.ffn_down.weight q3_K     [ 11008,  4096,     1,     1 ]\n",
      "llama_model_loader: - tensor   12:            blk.1.ffn_gate.weight q3_K     [  4096, 11008,     1,     1 ]\n",
      "llama_model_loader: - tensor   13:              blk.1.ffn_up.weight q3_K     [  4096, 11008,     1,     1 ]\n",
      "llama_model_loader: - tensor   14:            blk.1.ffn_norm.weight f32      [  4096,     1,     1,     1 ]\n",
      "llama_model_loader: - tensor   15:              blk.1.attn_k.weight q3_K     [  4096,  4096,     1,     1 ]\n",
      "llama_model_loader: - tensor   16:         blk.1.attn_output.weight q3_K     [  4096,  4096,     1,     1 ]\n",
      "llama_model_loader: - tensor   17:              blk.1.attn_q.weight q3_K     [  4096,  4096,     1,     1 ]\n",
      "llama_model_loader: - tensor   18:              blk.1.attn_v.weight q3_K     [  4096,  4096,     1,     1 ]\n",
      "llama_model_loader: - tensor   19:          blk.10.attn_norm.weight f32      [  4096,     1,     1,     1 ]\n",
      "llama_model_loader: - tensor   20:           blk.10.ffn_down.weight q3_K     [ 11008,  4096,     1,     1 ]\n",
      "llama_model_loader: - tensor   21:           blk.10.ffn_gate.weight q3_K     [  4096, 11008,     1,     1 ]\n",
      "llama_model_loader: - tensor   22:             blk.10.ffn_up.weight q3_K     [  4096, 11008,     1,     1 ]\n",
      "llama_model_loader: - tensor   23:           blk.10.ffn_norm.weight f32      [  4096,     1,     1,     1 ]\n",
      "llama_model_loader: - tensor   24:             blk.10.attn_k.weight q3_K     [  4096,  4096,     1,     1 ]\n",
      "llama_model_loader: - tensor   25:        blk.10.attn_output.weight q3_K     [  4096,  4096,     1,     1 ]\n",
      "llama_model_loader: - tensor   26:             blk.10.attn_q.weight q3_K     [  4096,  4096,     1,     1 ]\n",
      "llama_model_loader: - tensor   27:             blk.10.attn_v.weight q3_K     [  4096,  4096,     1,     1 ]\n",
      "llama_model_loader: - tensor   28:          blk.11.attn_norm.weight f32      [  4096,     1,     1,     1 ]\n",
      "llama_model_loader: - tensor   29:           blk.11.ffn_down.weight q3_K     [ 11008,  4096,     1,     1 ]\n",
      "llama_model_loader: - tensor   30:           blk.11.ffn_gate.weight q3_K     [  4096, 11008,     1,     1 ]\n",
      "llama_model_loader: - tensor   31:             blk.11.ffn_up.weight q3_K     [  4096, 11008,     1,     1 ]\n",
      "llama_model_loader: - tensor   32:           blk.11.ffn_norm.weight f32      [  4096,     1,     1,     1 ]\n",
      "llama_model_loader: - tensor   33:             blk.11.attn_k.weight q3_K     [  4096,  4096,     1,     1 ]\n",
      "llama_model_loader: - tensor   34:        blk.11.attn_output.weight q3_K     [  4096,  4096,     1,     1 ]\n",
      "llama_model_loader: - tensor   35:             blk.11.attn_q.weight q3_K     [  4096,  4096,     1,     1 ]\n",
      "llama_model_loader: - tensor   36:             blk.11.attn_v.weight q3_K     [  4096,  4096,     1,     1 ]\n",
      "llama_model_loader: - tensor   37:          blk.12.attn_norm.weight f32      [  4096,     1,     1,     1 ]\n",
      "llama_model_loader: - tensor   38:           blk.12.ffn_down.weight q3_K     [ 11008,  4096,     1,     1 ]\n",
      "llama_model_loader: - tensor   39:           blk.12.ffn_gate.weight q3_K     [  4096, 11008,     1,     1 ]\n",
      "llama_model_loader: - tensor   40:             blk.12.ffn_up.weight q3_K     [  4096, 11008,     1,     1 ]\n",
      "llama_model_loader: - tensor   41:           blk.12.ffn_norm.weight f32      [  4096,     1,     1,     1 ]\n",
      "llama_model_loader: - tensor   42:             blk.12.attn_k.weight q3_K     [  4096,  4096,     1,     1 ]\n",
      "llama_model_loader: - tensor   43:        blk.12.attn_output.weight q3_K     [  4096,  4096,     1,     1 ]\n",
      "llama_model_loader: - tensor   44:             blk.12.attn_q.weight q3_K     [  4096,  4096,     1,     1 ]\n",
      "llama_model_loader: - tensor   45:             blk.12.attn_v.weight q3_K     [  4096,  4096,     1,     1 ]\n",
      "llama_model_loader: - tensor   46:          blk.13.attn_norm.weight f32      [  4096,     1,     1,     1 ]\n",
      "llama_model_loader: - tensor   47:           blk.13.ffn_down.weight q3_K     [ 11008,  4096,     1,     1 ]\n",
      "llama_model_loader: - tensor   48:           blk.13.ffn_gate.weight q3_K     [  4096, 11008,     1,     1 ]\n",
      "llama_model_loader: - tensor   49:             blk.13.ffn_up.weight q3_K     [  4096, 11008,     1,     1 ]\n",
      "llama_model_loader: - tensor   50:           blk.13.ffn_norm.weight f32      [  4096,     1,     1,     1 ]\n",
      "llama_model_loader: - tensor   51:             blk.13.attn_k.weight q3_K     [  4096,  4096,     1,     1 ]\n",
      "llama_model_loader: - tensor   52:        blk.13.attn_output.weight q3_K     [  4096,  4096,     1,     1 ]\n",
      "llama_model_loader: - tensor   53:             blk.13.attn_q.weight q3_K     [  4096,  4096,     1,     1 ]\n",
      "llama_model_loader: - tensor   54:             blk.13.attn_v.weight q3_K     [  4096,  4096,     1,     1 ]\n",
      "llama_model_loader: - tensor   55:          blk.14.attn_norm.weight f32      [  4096,     1,     1,     1 ]\n",
      "llama_model_loader: - tensor   56:           blk.14.ffn_down.weight q3_K     [ 11008,  4096,     1,     1 ]\n",
      "llama_model_loader: - tensor   57:           blk.14.ffn_gate.weight q3_K     [  4096, 11008,     1,     1 ]\n",
      "llama_model_loader: - tensor   58:             blk.14.ffn_up.weight q3_K     [  4096, 11008,     1,     1 ]\n",
      "llama_model_loader: - tensor   59:           blk.14.ffn_norm.weight f32      [  4096,     1,     1,     1 ]\n",
      "llama_model_loader: - tensor   60:             blk.14.attn_k.weight q3_K     [  4096,  4096,     1,     1 ]\n",
      "llama_model_loader: - tensor   61:        blk.14.attn_output.weight q3_K     [  4096,  4096,     1,     1 ]\n",
      "llama_model_loader: - tensor   62:             blk.14.attn_q.weight q3_K     [  4096,  4096,     1,     1 ]\n",
      "llama_model_loader: - tensor   63:             blk.14.attn_v.weight q3_K     [  4096,  4096,     1,     1 ]\n",
      "llama_model_loader: - tensor   64:          blk.15.attn_norm.weight f32      [  4096,     1,     1,     1 ]\n",
      "llama_model_loader: - tensor   65:           blk.15.ffn_down.weight q3_K     [ 11008,  4096,     1,     1 ]\n",
      "llama_model_loader: - tensor   66:           blk.15.ffn_gate.weight q3_K     [  4096, 11008,     1,     1 ]\n",
      "llama_model_loader: - tensor   67:             blk.15.ffn_up.weight q3_K     [  4096, 11008,     1,     1 ]\n",
      "llama_model_loader: - tensor   68:           blk.15.ffn_norm.weight f32      [  4096,     1,     1,     1 ]\n",
      "llama_model_loader: - tensor   69:             blk.15.attn_k.weight q3_K     [  4096,  4096,     1,     1 ]\n",
      "llama_model_loader: - tensor   70:        blk.15.attn_output.weight q3_K     [  4096,  4096,     1,     1 ]\n",
      "llama_model_loader: - tensor   71:             blk.15.attn_q.weight q3_K     [  4096,  4096,     1,     1 ]\n",
      "llama_model_loader: - tensor   72:             blk.15.attn_v.weight q3_K     [  4096,  4096,     1,     1 ]\n",
      "llama_model_loader: - tensor   73:          blk.16.attn_norm.weight f32      [  4096,     1,     1,     1 ]\n",
      "llama_model_loader: - tensor   74:           blk.16.ffn_down.weight q3_K     [ 11008,  4096,     1,     1 ]\n",
      "llama_model_loader: - tensor   75:           blk.16.ffn_gate.weight q3_K     [  4096, 11008,     1,     1 ]\n",
      "llama_model_loader: - tensor   76:             blk.16.ffn_up.weight q3_K     [  4096, 11008,     1,     1 ]\n",
      "llama_model_loader: - tensor   77:           blk.16.ffn_norm.weight f32      [  4096,     1,     1,     1 ]\n",
      "llama_model_loader: - tensor   78:             blk.16.attn_k.weight q3_K     [  4096,  4096,     1,     1 ]\n",
      "llama_model_loader: - tensor   79:        blk.16.attn_output.weight q3_K     [  4096,  4096,     1,     1 ]\n",
      "llama_model_loader: - tensor   80:             blk.16.attn_q.weight q3_K     [  4096,  4096,     1,     1 ]\n",
      "llama_model_loader: - tensor   81:             blk.16.attn_v.weight q3_K     [  4096,  4096,     1,     1 ]\n",
      "llama_model_loader: - tensor   82:          blk.17.attn_norm.weight f32      [  4096,     1,     1,     1 ]\n",
      "llama_model_loader: - tensor   83:           blk.17.ffn_down.weight q3_K     [ 11008,  4096,     1,     1 ]\n",
      "llama_model_loader: - tensor   84:           blk.17.ffn_gate.weight q3_K     [  4096, 11008,     1,     1 ]\n",
      "llama_model_loader: - tensor   85:             blk.17.ffn_up.weight q3_K     [  4096, 11008,     1,     1 ]\n",
      "llama_model_loader: - tensor   86:           blk.17.ffn_norm.weight f32      [  4096,     1,     1,     1 ]\n",
      "llama_model_loader: - tensor   87:             blk.17.attn_k.weight q3_K     [  4096,  4096,     1,     1 ]\n",
      "llama_model_loader: - tensor   88:        blk.17.attn_output.weight q3_K     [  4096,  4096,     1,     1 ]\n",
      "llama_model_loader: - tensor   89:             blk.17.attn_q.weight q3_K     [  4096,  4096,     1,     1 ]\n",
      "llama_model_loader: - tensor   90:             blk.17.attn_v.weight q3_K     [  4096,  4096,     1,     1 ]\n",
      "llama_model_loader: - tensor   91:          blk.18.attn_norm.weight f32      [  4096,     1,     1,     1 ]\n",
      "llama_model_loader: - tensor   92:           blk.18.ffn_down.weight q3_K     [ 11008,  4096,     1,     1 ]\n",
      "llama_model_loader: - tensor   93:           blk.18.ffn_gate.weight q3_K     [  4096, 11008,     1,     1 ]\n",
      "llama_model_loader: - tensor   94:             blk.18.ffn_up.weight q3_K     [  4096, 11008,     1,     1 ]\n",
      "llama_model_loader: - tensor   95:           blk.18.ffn_norm.weight f32      [  4096,     1,     1,     1 ]\n",
      "llama_model_loader: - tensor   96:             blk.18.attn_k.weight q3_K     [  4096,  4096,     1,     1 ]\n",
      "llama_model_loader: - tensor   97:        blk.18.attn_output.weight q3_K     [  4096,  4096,     1,     1 ]\n",
      "llama_model_loader: - tensor   98:             blk.18.attn_q.weight q3_K     [  4096,  4096,     1,     1 ]\n",
      "llama_model_loader: - tensor   99:             blk.18.attn_v.weight q3_K     [  4096,  4096,     1,     1 ]\n",
      "llama_model_loader: - tensor  100:          blk.19.attn_norm.weight f32      [  4096,     1,     1,     1 ]\n",
      "llama_model_loader: - tensor  101:           blk.19.ffn_down.weight q3_K     [ 11008,  4096,     1,     1 ]\n",
      "llama_model_loader: - tensor  102:           blk.19.ffn_gate.weight q3_K     [  4096, 11008,     1,     1 ]\n",
      "llama_model_loader: - tensor  103:             blk.19.ffn_up.weight q3_K     [  4096, 11008,     1,     1 ]\n",
      "llama_model_loader: - tensor  104:           blk.19.ffn_norm.weight f32      [  4096,     1,     1,     1 ]\n",
      "llama_model_loader: - tensor  105:             blk.19.attn_k.weight q3_K     [  4096,  4096,     1,     1 ]\n",
      "llama_model_loader: - tensor  106:        blk.19.attn_output.weight q3_K     [  4096,  4096,     1,     1 ]\n",
      "llama_model_loader: - tensor  107:             blk.19.attn_q.weight q3_K     [  4096,  4096,     1,     1 ]\n",
      "llama_model_loader: - tensor  108:             blk.19.attn_v.weight q3_K     [  4096,  4096,     1,     1 ]\n",
      "llama_model_loader: - tensor  109:           blk.2.attn_norm.weight f32      [  4096,     1,     1,     1 ]\n",
      "llama_model_loader: - tensor  110:            blk.2.ffn_down.weight q3_K     [ 11008,  4096,     1,     1 ]\n",
      "llama_model_loader: - tensor  111:            blk.2.ffn_gate.weight q3_K     [  4096, 11008,     1,     1 ]\n",
      "llama_model_loader: - tensor  112:              blk.2.ffn_up.weight q3_K     [  4096, 11008,     1,     1 ]\n",
      "llama_model_loader: - tensor  113:            blk.2.ffn_norm.weight f32      [  4096,     1,     1,     1 ]\n",
      "llama_model_loader: - tensor  114:              blk.2.attn_k.weight q3_K     [  4096,  4096,     1,     1 ]\n",
      "llama_model_loader: - tensor  115:         blk.2.attn_output.weight q3_K     [  4096,  4096,     1,     1 ]\n",
      "llama_model_loader: - tensor  116:              blk.2.attn_q.weight q3_K     [  4096,  4096,     1,     1 ]\n",
      "llama_model_loader: - tensor  117:              blk.2.attn_v.weight q3_K     [  4096,  4096,     1,     1 ]\n",
      "llama_model_loader: - tensor  118:          blk.20.attn_norm.weight f32      [  4096,     1,     1,     1 ]\n",
      "llama_model_loader: - tensor  119:           blk.20.ffn_down.weight q3_K     [ 11008,  4096,     1,     1 ]\n",
      "llama_model_loader: - tensor  120:           blk.20.ffn_gate.weight q3_K     [  4096, 11008,     1,     1 ]\n",
      "llama_model_loader: - tensor  121:             blk.20.ffn_up.weight q3_K     [  4096, 11008,     1,     1 ]\n",
      "llama_model_loader: - tensor  122:           blk.20.ffn_norm.weight f32      [  4096,     1,     1,     1 ]\n",
      "llama_model_loader: - tensor  123:             blk.20.attn_k.weight q3_K     [  4096,  4096,     1,     1 ]\n",
      "llama_model_loader: - tensor  124:        blk.20.attn_output.weight q3_K     [  4096,  4096,     1,     1 ]\n",
      "llama_model_loader: - tensor  125:             blk.20.attn_q.weight q3_K     [  4096,  4096,     1,     1 ]\n",
      "llama_model_loader: - tensor  126:             blk.20.attn_v.weight q3_K     [  4096,  4096,     1,     1 ]\n",
      "llama_model_loader: - tensor  127:          blk.21.attn_norm.weight f32      [  4096,     1,     1,     1 ]\n",
      "llama_model_loader: - tensor  128:           blk.21.ffn_down.weight q3_K     [ 11008,  4096,     1,     1 ]\n",
      "llama_model_loader: - tensor  129:           blk.21.ffn_gate.weight q3_K     [  4096, 11008,     1,     1 ]\n",
      "llama_model_loader: - tensor  130:             blk.21.ffn_up.weight q3_K     [  4096, 11008,     1,     1 ]\n",
      "llama_model_loader: - tensor  131:           blk.21.ffn_norm.weight f32      [  4096,     1,     1,     1 ]\n",
      "llama_model_loader: - tensor  132:             blk.21.attn_k.weight q3_K     [  4096,  4096,     1,     1 ]\n",
      "llama_model_loader: - tensor  133:        blk.21.attn_output.weight q3_K     [  4096,  4096,     1,     1 ]\n",
      "llama_model_loader: - tensor  134:             blk.21.attn_q.weight q3_K     [  4096,  4096,     1,     1 ]\n",
      "llama_model_loader: - tensor  135:             blk.21.attn_v.weight q3_K     [  4096,  4096,     1,     1 ]\n",
      "llama_model_loader: - tensor  136:          blk.22.attn_norm.weight f32      [  4096,     1,     1,     1 ]\n",
      "llama_model_loader: - tensor  137:           blk.22.ffn_down.weight q3_K     [ 11008,  4096,     1,     1 ]\n",
      "llama_model_loader: - tensor  138:           blk.22.ffn_gate.weight q3_K     [  4096, 11008,     1,     1 ]\n",
      "llama_model_loader: - tensor  139:             blk.22.ffn_up.weight q3_K     [  4096, 11008,     1,     1 ]\n",
      "llama_model_loader: - tensor  140:           blk.22.ffn_norm.weight f32      [  4096,     1,     1,     1 ]\n",
      "llama_model_loader: - tensor  141:             blk.22.attn_k.weight q3_K     [  4096,  4096,     1,     1 ]\n",
      "llama_model_loader: - tensor  142:        blk.22.attn_output.weight q3_K     [  4096,  4096,     1,     1 ]\n",
      "llama_model_loader: - tensor  143:             blk.22.attn_q.weight q3_K     [  4096,  4096,     1,     1 ]\n",
      "llama_model_loader: - tensor  144:             blk.22.attn_v.weight q3_K     [  4096,  4096,     1,     1 ]\n",
      "llama_model_loader: - tensor  145:          blk.23.attn_norm.weight f32      [  4096,     1,     1,     1 ]\n",
      "llama_model_loader: - tensor  146:           blk.23.ffn_down.weight q3_K     [ 11008,  4096,     1,     1 ]\n",
      "llama_model_loader: - tensor  147:           blk.23.ffn_gate.weight q3_K     [  4096, 11008,     1,     1 ]\n",
      "llama_model_loader: - tensor  148:             blk.23.ffn_up.weight q3_K     [  4096, 11008,     1,     1 ]\n",
      "llama_model_loader: - tensor  149:           blk.23.ffn_norm.weight f32      [  4096,     1,     1,     1 ]\n",
      "llama_model_loader: - tensor  150:             blk.23.attn_k.weight q3_K     [  4096,  4096,     1,     1 ]\n",
      "llama_model_loader: - tensor  151:        blk.23.attn_output.weight q3_K     [  4096,  4096,     1,     1 ]\n",
      "llama_model_loader: - tensor  152:             blk.23.attn_q.weight q3_K     [  4096,  4096,     1,     1 ]\n",
      "llama_model_loader: - tensor  153:             blk.23.attn_v.weight q3_K     [  4096,  4096,     1,     1 ]\n",
      "llama_model_loader: - tensor  154:           blk.3.attn_norm.weight f32      [  4096,     1,     1,     1 ]\n",
      "llama_model_loader: - tensor  155:            blk.3.ffn_down.weight q3_K     [ 11008,  4096,     1,     1 ]\n",
      "llama_model_loader: - tensor  156:            blk.3.ffn_gate.weight q3_K     [  4096, 11008,     1,     1 ]\n",
      "llama_model_loader: - tensor  157:              blk.3.ffn_up.weight q3_K     [  4096, 11008,     1,     1 ]\n",
      "llama_model_loader: - tensor  158:            blk.3.ffn_norm.weight f32      [  4096,     1,     1,     1 ]\n",
      "llama_model_loader: - tensor  159:              blk.3.attn_k.weight q3_K     [  4096,  4096,     1,     1 ]\n",
      "llama_model_loader: - tensor  160:         blk.3.attn_output.weight q3_K     [  4096,  4096,     1,     1 ]\n",
      "llama_model_loader: - tensor  161:              blk.3.attn_q.weight q3_K     [  4096,  4096,     1,     1 ]\n",
      "llama_model_loader: - tensor  162:              blk.3.attn_v.weight q3_K     [  4096,  4096,     1,     1 ]\n",
      "llama_model_loader: - tensor  163:           blk.4.attn_norm.weight f32      [  4096,     1,     1,     1 ]\n",
      "llama_model_loader: - tensor  164:            blk.4.ffn_down.weight q3_K     [ 11008,  4096,     1,     1 ]\n",
      "llama_model_loader: - tensor  165:            blk.4.ffn_gate.weight q3_K     [  4096, 11008,     1,     1 ]\n",
      "llama_model_loader: - tensor  166:              blk.4.ffn_up.weight q3_K     [  4096, 11008,     1,     1 ]\n",
      "llama_model_loader: - tensor  167:            blk.4.ffn_norm.weight f32      [  4096,     1,     1,     1 ]\n",
      "llama_model_loader: - tensor  168:              blk.4.attn_k.weight q3_K     [  4096,  4096,     1,     1 ]\n",
      "llama_model_loader: - tensor  169:         blk.4.attn_output.weight q3_K     [  4096,  4096,     1,     1 ]\n",
      "llama_model_loader: - tensor  170:              blk.4.attn_q.weight q3_K     [  4096,  4096,     1,     1 ]\n",
      "llama_model_loader: - tensor  171:              blk.4.attn_v.weight q3_K     [  4096,  4096,     1,     1 ]\n",
      "llama_model_loader: - tensor  172:           blk.5.attn_norm.weight f32      [  4096,     1,     1,     1 ]\n",
      "llama_model_loader: - tensor  173:            blk.5.ffn_down.weight q3_K     [ 11008,  4096,     1,     1 ]\n",
      "llama_model_loader: - tensor  174:            blk.5.ffn_gate.weight q3_K     [  4096, 11008,     1,     1 ]\n",
      "llama_model_loader: - tensor  175:              blk.5.ffn_up.weight q3_K     [  4096, 11008,     1,     1 ]\n",
      "llama_model_loader: - tensor  176:            blk.5.ffn_norm.weight f32      [  4096,     1,     1,     1 ]\n",
      "llama_model_loader: - tensor  177:              blk.5.attn_k.weight q3_K     [  4096,  4096,     1,     1 ]\n",
      "llama_model_loader: - tensor  178:         blk.5.attn_output.weight q3_K     [  4096,  4096,     1,     1 ]\n",
      "llama_model_loader: - tensor  179:              blk.5.attn_q.weight q3_K     [  4096,  4096,     1,     1 ]\n",
      "llama_model_loader: - tensor  180:              blk.5.attn_v.weight q3_K     [  4096,  4096,     1,     1 ]\n",
      "llama_model_loader: - tensor  181:           blk.6.attn_norm.weight f32      [  4096,     1,     1,     1 ]\n",
      "llama_model_loader: - tensor  182:            blk.6.ffn_down.weight q3_K     [ 11008,  4096,     1,     1 ]\n",
      "llama_model_loader: - tensor  183:            blk.6.ffn_gate.weight q3_K     [  4096, 11008,     1,     1 ]\n",
      "llama_model_loader: - tensor  184:              blk.6.ffn_up.weight q3_K     [  4096, 11008,     1,     1 ]\n",
      "llama_model_loader: - tensor  185:            blk.6.ffn_norm.weight f32      [  4096,     1,     1,     1 ]\n",
      "llama_model_loader: - tensor  186:              blk.6.attn_k.weight q3_K     [  4096,  4096,     1,     1 ]\n",
      "llama_model_loader: - tensor  187:         blk.6.attn_output.weight q3_K     [  4096,  4096,     1,     1 ]\n",
      "llama_model_loader: - tensor  188:              blk.6.attn_q.weight q3_K     [  4096,  4096,     1,     1 ]\n",
      "llama_model_loader: - tensor  189:              blk.6.attn_v.weight q3_K     [  4096,  4096,     1,     1 ]\n",
      "llama_model_loader: - tensor  190:           blk.7.attn_norm.weight f32      [  4096,     1,     1,     1 ]\n",
      "llama_model_loader: - tensor  191:            blk.7.ffn_down.weight q3_K     [ 11008,  4096,     1,     1 ]\n",
      "llama_model_loader: - tensor  192:            blk.7.ffn_gate.weight q3_K     [  4096, 11008,     1,     1 ]\n",
      "llama_model_loader: - tensor  193:              blk.7.ffn_up.weight q3_K     [  4096, 11008,     1,     1 ]\n",
      "llama_model_loader: - tensor  194:            blk.7.ffn_norm.weight f32      [  4096,     1,     1,     1 ]\n",
      "llama_model_loader: - tensor  195:              blk.7.attn_k.weight q3_K     [  4096,  4096,     1,     1 ]\n",
      "llama_model_loader: - tensor  196:         blk.7.attn_output.weight q3_K     [  4096,  4096,     1,     1 ]\n",
      "llama_model_loader: - tensor  197:              blk.7.attn_q.weight q3_K     [  4096,  4096,     1,     1 ]\n",
      "llama_model_loader: - tensor  198:              blk.7.attn_v.weight q3_K     [  4096,  4096,     1,     1 ]\n",
      "llama_model_loader: - tensor  199:           blk.8.attn_norm.weight f32      [  4096,     1,     1,     1 ]\n",
      "llama_model_loader: - tensor  200:            blk.8.ffn_down.weight q3_K     [ 11008,  4096,     1,     1 ]\n",
      "llama_model_loader: - tensor  201:            blk.8.ffn_gate.weight q3_K     [  4096, 11008,     1,     1 ]\n",
      "llama_model_loader: - tensor  202:              blk.8.ffn_up.weight q3_K     [  4096, 11008,     1,     1 ]\n",
      "llama_model_loader: - tensor  203:            blk.8.ffn_norm.weight f32      [  4096,     1,     1,     1 ]\n",
      "llama_model_loader: - tensor  204:              blk.8.attn_k.weight q3_K     [  4096,  4096,     1,     1 ]\n",
      "llama_model_loader: - tensor  205:         blk.8.attn_output.weight q3_K     [  4096,  4096,     1,     1 ]\n",
      "llama_model_loader: - tensor  206:              blk.8.attn_q.weight q3_K     [  4096,  4096,     1,     1 ]\n",
      "llama_model_loader: - tensor  207:              blk.8.attn_v.weight q3_K     [  4096,  4096,     1,     1 ]\n",
      "llama_model_loader: - tensor  208:           blk.9.attn_norm.weight f32      [  4096,     1,     1,     1 ]\n",
      "llama_model_loader: - tensor  209:            blk.9.ffn_down.weight q3_K     [ 11008,  4096,     1,     1 ]\n",
      "llama_model_loader: - tensor  210:            blk.9.ffn_gate.weight q3_K     [  4096, 11008,     1,     1 ]\n",
      "llama_model_loader: - tensor  211:              blk.9.ffn_up.weight q3_K     [  4096, 11008,     1,     1 ]\n",
      "llama_model_loader: - tensor  212:            blk.9.ffn_norm.weight f32      [  4096,     1,     1,     1 ]\n",
      "llama_model_loader: - tensor  213:              blk.9.attn_k.weight q3_K     [  4096,  4096,     1,     1 ]\n",
      "llama_model_loader: - tensor  214:         blk.9.attn_output.weight q3_K     [  4096,  4096,     1,     1 ]\n",
      "llama_model_loader: - tensor  215:              blk.9.attn_q.weight q3_K     [  4096,  4096,     1,     1 ]\n",
      "llama_model_loader: - tensor  216:              blk.9.attn_v.weight q3_K     [  4096,  4096,     1,     1 ]\n",
      "llama_model_loader: - tensor  217:                    output.weight q6_K     [  4096, 32016,     1,     1 ]\n",
      "llama_model_loader: - tensor  218:          blk.24.attn_norm.weight f32      [  4096,     1,     1,     1 ]\n",
      "llama_model_loader: - tensor  219:           blk.24.ffn_down.weight q3_K     [ 11008,  4096,     1,     1 ]\n",
      "llama_model_loader: - tensor  220:           blk.24.ffn_gate.weight q3_K     [  4096, 11008,     1,     1 ]\n",
      "llama_model_loader: - tensor  221:             blk.24.ffn_up.weight q3_K     [  4096, 11008,     1,     1 ]\n",
      "llama_model_loader: - tensor  222:           blk.24.ffn_norm.weight f32      [  4096,     1,     1,     1 ]\n",
      "llama_model_loader: - tensor  223:             blk.24.attn_k.weight q3_K     [  4096,  4096,     1,     1 ]\n",
      "llama_model_loader: - tensor  224:        blk.24.attn_output.weight q3_K     [  4096,  4096,     1,     1 ]\n",
      "llama_model_loader: - tensor  225:             blk.24.attn_q.weight q3_K     [  4096,  4096,     1,     1 ]\n",
      "llama_model_loader: - tensor  226:             blk.24.attn_v.weight q3_K     [  4096,  4096,     1,     1 ]\n",
      "llama_model_loader: - tensor  227:          blk.25.attn_norm.weight f32      [  4096,     1,     1,     1 ]\n",
      "llama_model_loader: - tensor  228:           blk.25.ffn_down.weight q3_K     [ 11008,  4096,     1,     1 ]\n",
      "llama_model_loader: - tensor  229:           blk.25.ffn_gate.weight q3_K     [  4096, 11008,     1,     1 ]\n",
      "llama_model_loader: - tensor  230:             blk.25.ffn_up.weight q3_K     [  4096, 11008,     1,     1 ]\n",
      "llama_model_loader: - tensor  231:           blk.25.ffn_norm.weight f32      [  4096,     1,     1,     1 ]\n",
      "llama_model_loader: - tensor  232:             blk.25.attn_k.weight q3_K     [  4096,  4096,     1,     1 ]\n",
      "llama_model_loader: - tensor  233:        blk.25.attn_output.weight q3_K     [  4096,  4096,     1,     1 ]\n",
      "llama_model_loader: - tensor  234:             blk.25.attn_q.weight q3_K     [  4096,  4096,     1,     1 ]\n",
      "llama_model_loader: - tensor  235:             blk.25.attn_v.weight q3_K     [  4096,  4096,     1,     1 ]\n",
      "llama_model_loader: - tensor  236:          blk.26.attn_norm.weight f32      [  4096,     1,     1,     1 ]\n",
      "llama_model_loader: - tensor  237:           blk.26.ffn_down.weight q3_K     [ 11008,  4096,     1,     1 ]\n",
      "llama_model_loader: - tensor  238:           blk.26.ffn_gate.weight q3_K     [  4096, 11008,     1,     1 ]\n",
      "llama_model_loader: - tensor  239:             blk.26.ffn_up.weight q3_K     [  4096, 11008,     1,     1 ]\n",
      "llama_model_loader: - tensor  240:           blk.26.ffn_norm.weight f32      [  4096,     1,     1,     1 ]\n",
      "llama_model_loader: - tensor  241:             blk.26.attn_k.weight q3_K     [  4096,  4096,     1,     1 ]\n",
      "llama_model_loader: - tensor  242:        blk.26.attn_output.weight q3_K     [  4096,  4096,     1,     1 ]\n",
      "llama_model_loader: - tensor  243:             blk.26.attn_q.weight q3_K     [  4096,  4096,     1,     1 ]\n",
      "llama_model_loader: - tensor  244:             blk.26.attn_v.weight q3_K     [  4096,  4096,     1,     1 ]\n",
      "llama_model_loader: - tensor  245:          blk.27.attn_norm.weight f32      [  4096,     1,     1,     1 ]\n",
      "llama_model_loader: - tensor  246:           blk.27.ffn_down.weight q3_K     [ 11008,  4096,     1,     1 ]\n",
      "llama_model_loader: - tensor  247:           blk.27.ffn_gate.weight q3_K     [  4096, 11008,     1,     1 ]\n",
      "llama_model_loader: - tensor  248:             blk.27.ffn_up.weight q3_K     [  4096, 11008,     1,     1 ]\n",
      "llama_model_loader: - tensor  249:           blk.27.ffn_norm.weight f32      [  4096,     1,     1,     1 ]\n",
      "llama_model_loader: - tensor  250:             blk.27.attn_k.weight q3_K     [  4096,  4096,     1,     1 ]\n",
      "llama_model_loader: - tensor  251:        blk.27.attn_output.weight q3_K     [  4096,  4096,     1,     1 ]\n",
      "llama_model_loader: - tensor  252:             blk.27.attn_q.weight q3_K     [  4096,  4096,     1,     1 ]\n",
      "llama_model_loader: - tensor  253:             blk.27.attn_v.weight q3_K     [  4096,  4096,     1,     1 ]\n",
      "llama_model_loader: - tensor  254:          blk.28.attn_norm.weight f32      [  4096,     1,     1,     1 ]\n",
      "llama_model_loader: - tensor  255:           blk.28.ffn_down.weight q3_K     [ 11008,  4096,     1,     1 ]\n",
      "llama_model_loader: - tensor  256:           blk.28.ffn_gate.weight q3_K     [  4096, 11008,     1,     1 ]\n",
      "llama_model_loader: - tensor  257:             blk.28.ffn_up.weight q3_K     [  4096, 11008,     1,     1 ]\n",
      "llama_model_loader: - tensor  258:           blk.28.ffn_norm.weight f32      [  4096,     1,     1,     1 ]\n",
      "llama_model_loader: - tensor  259:             blk.28.attn_k.weight q3_K     [  4096,  4096,     1,     1 ]\n",
      "llama_model_loader: - tensor  260:        blk.28.attn_output.weight q3_K     [  4096,  4096,     1,     1 ]\n",
      "llama_model_loader: - tensor  261:             blk.28.attn_q.weight q3_K     [  4096,  4096,     1,     1 ]\n",
      "llama_model_loader: - tensor  262:             blk.28.attn_v.weight q3_K     [  4096,  4096,     1,     1 ]\n",
      "llama_model_loader: - tensor  263:          blk.29.attn_norm.weight f32      [  4096,     1,     1,     1 ]\n",
      "llama_model_loader: - tensor  264:           blk.29.ffn_down.weight q3_K     [ 11008,  4096,     1,     1 ]\n",
      "llama_model_loader: - tensor  265:           blk.29.ffn_gate.weight q3_K     [  4096, 11008,     1,     1 ]\n",
      "llama_model_loader: - tensor  266:             blk.29.ffn_up.weight q3_K     [  4096, 11008,     1,     1 ]\n",
      "llama_model_loader: - tensor  267:           blk.29.ffn_norm.weight f32      [  4096,     1,     1,     1 ]\n",
      "llama_model_loader: - tensor  268:             blk.29.attn_k.weight q3_K     [  4096,  4096,     1,     1 ]\n",
      "llama_model_loader: - tensor  269:        blk.29.attn_output.weight q3_K     [  4096,  4096,     1,     1 ]\n",
      "llama_model_loader: - tensor  270:             blk.29.attn_q.weight q3_K     [  4096,  4096,     1,     1 ]\n",
      "llama_model_loader: - tensor  271:             blk.29.attn_v.weight q3_K     [  4096,  4096,     1,     1 ]\n",
      "llama_model_loader: - tensor  272:          blk.30.attn_norm.weight f32      [  4096,     1,     1,     1 ]\n",
      "llama_model_loader: - tensor  273:           blk.30.ffn_down.weight q3_K     [ 11008,  4096,     1,     1 ]\n",
      "llama_model_loader: - tensor  274:           blk.30.ffn_gate.weight q3_K     [  4096, 11008,     1,     1 ]\n",
      "llama_model_loader: - tensor  275:             blk.30.ffn_up.weight q3_K     [  4096, 11008,     1,     1 ]\n",
      "llama_model_loader: - tensor  276:           blk.30.ffn_norm.weight f32      [  4096,     1,     1,     1 ]\n",
      "llama_model_loader: - tensor  277:             blk.30.attn_k.weight q3_K     [  4096,  4096,     1,     1 ]\n",
      "llama_model_loader: - tensor  278:        blk.30.attn_output.weight q3_K     [  4096,  4096,     1,     1 ]\n",
      "llama_model_loader: - tensor  279:             blk.30.attn_q.weight q3_K     [  4096,  4096,     1,     1 ]\n",
      "llama_model_loader: - tensor  280:             blk.30.attn_v.weight q3_K     [  4096,  4096,     1,     1 ]\n",
      "llama_model_loader: - tensor  281:          blk.31.attn_norm.weight f32      [  4096,     1,     1,     1 ]\n",
      "llama_model_loader: - tensor  282:           blk.31.ffn_down.weight q3_K     [ 11008,  4096,     1,     1 ]\n",
      "llama_model_loader: - tensor  283:           blk.31.ffn_gate.weight q3_K     [  4096, 11008,     1,     1 ]\n",
      "llama_model_loader: - tensor  284:             blk.31.ffn_up.weight q3_K     [  4096, 11008,     1,     1 ]\n",
      "llama_model_loader: - tensor  285:           blk.31.ffn_norm.weight f32      [  4096,     1,     1,     1 ]\n",
      "llama_model_loader: - tensor  286:             blk.31.attn_k.weight q3_K     [  4096,  4096,     1,     1 ]\n",
      "llama_model_loader: - tensor  287:        blk.31.attn_output.weight q3_K     [  4096,  4096,     1,     1 ]\n",
      "llama_model_loader: - tensor  288:             blk.31.attn_q.weight q3_K     [  4096,  4096,     1,     1 ]\n",
      "llama_model_loader: - tensor  289:             blk.31.attn_v.weight q3_K     [  4096,  4096,     1,     1 ]\n",
      "llama_model_loader: - tensor  290:               output_norm.weight f32      [  4096,     1,     1,     1 ]\n",
      "llama_model_loader: - kv   0:                       general.architecture str     \n",
      "llama_model_loader: - kv   1:                               general.name str     \n",
      "llama_model_loader: - kv   2:                       llama.context_length u32     \n",
      "llama_model_loader: - kv   3:                     llama.embedding_length u32     \n",
      "llama_model_loader: - kv   4:                          llama.block_count u32     \n",
      "llama_model_loader: - kv   5:                  llama.feed_forward_length u32     \n",
      "llama_model_loader: - kv   6:                 llama.rope.dimension_count u32     \n",
      "llama_model_loader: - kv   7:                 llama.attention.head_count u32     \n",
      "llama_model_loader: - kv   8:              llama.attention.head_count_kv u32     \n",
      "llama_model_loader: - kv   9:     llama.attention.layer_norm_rms_epsilon f32     \n",
      "llama_model_loader: - kv  10:                       llama.rope.freq_base f32     \n",
      "llama_model_loader: - kv  11:                          general.file_type u32     \n",
      "llama_model_loader: - kv  12:                       tokenizer.ggml.model str     \n",
      "llama_model_loader: - kv  13:                      tokenizer.ggml.tokens arr     \n",
      "llama_model_loader: - kv  14:                      tokenizer.ggml.scores arr     \n",
      "llama_model_loader: - kv  15:                  tokenizer.ggml.token_type arr     \n",
      "llama_model_loader: - kv  16:                tokenizer.ggml.bos_token_id u32     \n",
      "llama_model_loader: - kv  17:                tokenizer.ggml.eos_token_id u32     \n",
      "llama_model_loader: - kv  18:            tokenizer.ggml.unknown_token_id u32     \n",
      "llama_model_loader: - kv  19:               general.quantization_version u32     \n",
      "llama_model_loader: - type  f32:   65 tensors\n",
      "llama_model_loader: - type q3_K:  225 tensors\n",
      "llama_model_loader: - type q6_K:    1 tensors\n",
      "llm_load_print_meta: format         = GGUF V2 (latest)\n",
      "llm_load_print_meta: arch           = llama\n",
      "llm_load_print_meta: vocab type     = SPM\n",
      "llm_load_print_meta: n_vocab        = 32016\n",
      "llm_load_print_meta: n_merges       = 0\n",
      "llm_load_print_meta: n_ctx_train    = 16384\n",
      "llm_load_print_meta: n_ctx          = 2048\n",
      "llm_load_print_meta: n_embd         = 4096\n",
      "llm_load_print_meta: n_head         = 32\n",
      "llm_load_print_meta: n_head_kv      = 32\n",
      "llm_load_print_meta: n_layer        = 32\n",
      "llm_load_print_meta: n_rot          = 128\n",
      "llm_load_print_meta: n_gqa          = 1\n",
      "llm_load_print_meta: f_norm_eps     = 1.0e-05\n",
      "llm_load_print_meta: f_norm_rms_eps = 1.0e-05\n",
      "llm_load_print_meta: n_ff           = 11008\n",
      "llm_load_print_meta: freq_base      = 1000000.0\n",
      "llm_load_print_meta: freq_scale     = 1\n",
      "llm_load_print_meta: model type     = 7B\n",
      "llm_load_print_meta: model ftype    = mostly Q3_K - Small\n",
      "llm_load_print_meta: model size     = 6.74 B\n",
      "llm_load_print_meta: general.name   = codellama_codellama-7b-instruct-hf\n",
      "llm_load_print_meta: BOS token = 1 '<s>'\n",
      "llm_load_print_meta: EOS token = 2 '</s>'\n",
      "llm_load_print_meta: UNK token = 0 '<unk>'\n",
      "llm_load_print_meta: LF token  = 13 '<0x0A>'\n",
      "llm_load_tensors: ggml ctx size =    0.09 MB\n",
      "llm_load_tensors: mem required  = 2811.19 MB (+ 1024.00 MB per state)\n",
      ".................................................................................................\n",
      "llama_new_context_with_model: kv self size  = 1024.00 MB\n",
      "llama_new_context_with_model: compute buffer total size =  153.47 MB\n"
     ]
    }
   ],
   "source": [
    "from llama_cpp import Llama\n",
    "\n",
    "model_path = '/mnt/data00/yangxiaobo/.local/share/Open Interpreter/models/codellama-7b-instruct.Q3_K_S.gguf'\n",
    "llm = Llama(model_path=model_path, verbose=False, n_ctx=2048)"
   ]
  },
  {
   "cell_type": "code",
   "execution_count": 47,
   "metadata": {},
   "outputs": [
    {
     "name": "stdout",
     "output_type": "stream",
     "text": [
      "\n",
      "\n",
      "Let's start with some data. We have APPL and META stock prices from Yahoo Finance. We can use pandas to read the data into a dataframe.\n",
      "```python\n",
      "import pandas as pd\n",
      "df = pd.read_csv('stock_prices.csv')\n",
      "print(df)\n",
      "```\n",
      "This will give us the following output:\n",
      "```\n",
      "          Date    Open    High     Low   Close  Adj Close\n",
      "0   2018-06-01  153.79  154.29  153.7"
     ]
    }
   ],
   "source": [
    "# 检测model output\n",
    "resp = llm(\n",
    "        prompt,\n",
    "        stream=True,\n",
    "        temperature=0.001,\n",
    "        stop=[\"</s>\"]\n",
    "      )\n",
    "\n",
    "txt = ''\n",
    "for chunk in resp:\n",
    "    txt += chunk['choices'][0]['text']\n",
    "    print(chunk['choices'][0]['text'], end='')"
   ]
  },
  {
   "cell_type": "code",
   "execution_count": 48,
   "metadata": {},
   "outputs": [
    {
     "name": "stdout",
     "output_type": "stream",
     "text": [
      "{'id': 'cmpl-aaef5d47-b483-49d8-8565-81db5b2094cb', 'object': 'text_completion', 'created': 1694159549, 'model': '/mnt/data00/yangxiaobo/.local/share/Open Interpreter/models/codellama-7b-instruct.Q3_K_S.gguf', 'choices': [{'text': '\\n', 'index': 0, 'logprobs': None, 'finish_reason': None}]}\n",
      "{'id': 'cmpl-aaef5d47-b483-49d8-8565-81db5b2094cb', 'object': 'text_completion', 'created': 1694159549, 'model': '/mnt/data00/yangxiaobo/.local/share/Open Interpreter/models/codellama-7b-instruct.Q3_K_S.gguf', 'choices': [{'text': '\\n', 'index': 0, 'logprobs': None, 'finish_reason': None}]}\n",
      "{'id': 'cmpl-aaef5d47-b483-49d8-8565-81db5b2094cb', 'object': 'text_completion', 'created': 1694159549, 'model': '/mnt/data00/yangxiaobo/.local/share/Open Interpreter/models/codellama-7b-instruct.Q3_K_S.gguf', 'choices': [{'text': 'Let', 'index': 0, 'logprobs': None, 'finish_reason': None}]}\n",
      "{'id': 'cmpl-aaef5d47-b483-49d8-8565-81db5b2094cb', 'object': 'text_completion', 'created': 1694159549, 'model': '/mnt/data00/yangxiaobo/.local/share/Open Interpreter/models/codellama-7b-instruct.Q3_K_S.gguf', 'choices': [{'text': \"'\", 'index': 0, 'logprobs': None, 'finish_reason': None}]}\n",
      "{'id': 'cmpl-aaef5d47-b483-49d8-8565-81db5b2094cb', 'object': 'text_completion', 'created': 1694159549, 'model': '/mnt/data00/yangxiaobo/.local/share/Open Interpreter/models/codellama-7b-instruct.Q3_K_S.gguf', 'choices': [{'text': 's', 'index': 0, 'logprobs': None, 'finish_reason': None}]}\n",
      "{'id': 'cmpl-aaef5d47-b483-49d8-8565-81db5b2094cb', 'object': 'text_completion', 'created': 1694159549, 'model': '/mnt/data00/yangxiaobo/.local/share/Open Interpreter/models/codellama-7b-instruct.Q3_K_S.gguf', 'choices': [{'text': ' start', 'index': 0, 'logprobs': None, 'finish_reason': None}]}\n",
      "{'id': 'cmpl-aaef5d47-b483-49d8-8565-81db5b2094cb', 'object': 'text_completion', 'created': 1694159549, 'model': '/mnt/data00/yangxiaobo/.local/share/Open Interpreter/models/codellama-7b-instruct.Q3_K_S.gguf', 'choices': [{'text': ' with', 'index': 0, 'logprobs': None, 'finish_reason': None}]}\n",
      "{'id': 'cmpl-aaef5d47-b483-49d8-8565-81db5b2094cb', 'object': 'text_completion', 'created': 1694159549, 'model': '/mnt/data00/yangxiaobo/.local/share/Open Interpreter/models/codellama-7b-instruct.Q3_K_S.gguf', 'choices': [{'text': ' some', 'index': 0, 'logprobs': None, 'finish_reason': None}]}\n",
      "{'id': 'cmpl-aaef5d47-b483-49d8-8565-81db5b2094cb', 'object': 'text_completion', 'created': 1694159549, 'model': '/mnt/data00/yangxiaobo/.local/share/Open Interpreter/models/codellama-7b-instruct.Q3_K_S.gguf', 'choices': [{'text': ' data', 'index': 0, 'logprobs': None, 'finish_reason': None}]}\n",
      "{'id': 'cmpl-aaef5d47-b483-49d8-8565-81db5b2094cb', 'object': 'text_completion', 'created': 1694159549, 'model': '/mnt/data00/yangxiaobo/.local/share/Open Interpreter/models/codellama-7b-instruct.Q3_K_S.gguf', 'choices': [{'text': '.', 'index': 0, 'logprobs': None, 'finish_reason': None}]}\n",
      "{'id': 'cmpl-aaef5d47-b483-49d8-8565-81db5b2094cb', 'object': 'text_completion', 'created': 1694159549, 'model': '/mnt/data00/yangxiaobo/.local/share/Open Interpreter/models/codellama-7b-instruct.Q3_K_S.gguf', 'choices': [{'text': ' We', 'index': 0, 'logprobs': None, 'finish_reason': None}]}\n",
      "{'id': 'cmpl-aaef5d47-b483-49d8-8565-81db5b2094cb', 'object': 'text_completion', 'created': 1694159549, 'model': '/mnt/data00/yangxiaobo/.local/share/Open Interpreter/models/codellama-7b-instruct.Q3_K_S.gguf', 'choices': [{'text': ' have', 'index': 0, 'logprobs': None, 'finish_reason': None}]}\n",
      "{'id': 'cmpl-aaef5d47-b483-49d8-8565-81db5b2094cb', 'object': 'text_completion', 'created': 1694159549, 'model': '/mnt/data00/yangxiaobo/.local/share/Open Interpreter/models/codellama-7b-instruct.Q3_K_S.gguf', 'choices': [{'text': ' AP', 'index': 0, 'logprobs': None, 'finish_reason': None}]}\n",
      "{'id': 'cmpl-aaef5d47-b483-49d8-8565-81db5b2094cb', 'object': 'text_completion', 'created': 1694159549, 'model': '/mnt/data00/yangxiaobo/.local/share/Open Interpreter/models/codellama-7b-instruct.Q3_K_S.gguf', 'choices': [{'text': 'PL', 'index': 0, 'logprobs': None, 'finish_reason': None}]}\n",
      "{'id': 'cmpl-aaef5d47-b483-49d8-8565-81db5b2094cb', 'object': 'text_completion', 'created': 1694159549, 'model': '/mnt/data00/yangxiaobo/.local/share/Open Interpreter/models/codellama-7b-instruct.Q3_K_S.gguf', 'choices': [{'text': ' and', 'index': 0, 'logprobs': None, 'finish_reason': None}]}\n",
      "{'id': 'cmpl-aaef5d47-b483-49d8-8565-81db5b2094cb', 'object': 'text_completion', 'created': 1694159549, 'model': '/mnt/data00/yangxiaobo/.local/share/Open Interpreter/models/codellama-7b-instruct.Q3_K_S.gguf', 'choices': [{'text': ' M', 'index': 0, 'logprobs': None, 'finish_reason': None}]}\n",
      "{'id': 'cmpl-aaef5d47-b483-49d8-8565-81db5b2094cb', 'object': 'text_completion', 'created': 1694159549, 'model': '/mnt/data00/yangxiaobo/.local/share/Open Interpreter/models/codellama-7b-instruct.Q3_K_S.gguf', 'choices': [{'text': 'ET', 'index': 0, 'logprobs': None, 'finish_reason': None}]}\n",
      "{'id': 'cmpl-aaef5d47-b483-49d8-8565-81db5b2094cb', 'object': 'text_completion', 'created': 1694159549, 'model': '/mnt/data00/yangxiaobo/.local/share/Open Interpreter/models/codellama-7b-instruct.Q3_K_S.gguf', 'choices': [{'text': 'A', 'index': 0, 'logprobs': None, 'finish_reason': None}]}\n",
      "{'id': 'cmpl-aaef5d47-b483-49d8-8565-81db5b2094cb', 'object': 'text_completion', 'created': 1694159549, 'model': '/mnt/data00/yangxiaobo/.local/share/Open Interpreter/models/codellama-7b-instruct.Q3_K_S.gguf', 'choices': [{'text': ' stock', 'index': 0, 'logprobs': None, 'finish_reason': None}]}\n",
      "{'id': 'cmpl-aaef5d47-b483-49d8-8565-81db5b2094cb', 'object': 'text_completion', 'created': 1694159549, 'model': '/mnt/data00/yangxiaobo/.local/share/Open Interpreter/models/codellama-7b-instruct.Q3_K_S.gguf', 'choices': [{'text': ' prices', 'index': 0, 'logprobs': None, 'finish_reason': None}]}\n",
      "{'id': 'cmpl-aaef5d47-b483-49d8-8565-81db5b2094cb', 'object': 'text_completion', 'created': 1694159549, 'model': '/mnt/data00/yangxiaobo/.local/share/Open Interpreter/models/codellama-7b-instruct.Q3_K_S.gguf', 'choices': [{'text': ' from', 'index': 0, 'logprobs': None, 'finish_reason': None}]}\n",
      "{'id': 'cmpl-aaef5d47-b483-49d8-8565-81db5b2094cb', 'object': 'text_completion', 'created': 1694159549, 'model': '/mnt/data00/yangxiaobo/.local/share/Open Interpreter/models/codellama-7b-instruct.Q3_K_S.gguf', 'choices': [{'text': ' Y', 'index': 0, 'logprobs': None, 'finish_reason': None}]}\n",
      "{'id': 'cmpl-aaef5d47-b483-49d8-8565-81db5b2094cb', 'object': 'text_completion', 'created': 1694159549, 'model': '/mnt/data00/yangxiaobo/.local/share/Open Interpreter/models/codellama-7b-instruct.Q3_K_S.gguf', 'choices': [{'text': 'ahoo', 'index': 0, 'logprobs': None, 'finish_reason': None}]}\n",
      "{'id': 'cmpl-aaef5d47-b483-49d8-8565-81db5b2094cb', 'object': 'text_completion', 'created': 1694159549, 'model': '/mnt/data00/yangxiaobo/.local/share/Open Interpreter/models/codellama-7b-instruct.Q3_K_S.gguf', 'choices': [{'text': ' Fin', 'index': 0, 'logprobs': None, 'finish_reason': None}]}\n",
      "{'id': 'cmpl-aaef5d47-b483-49d8-8565-81db5b2094cb', 'object': 'text_completion', 'created': 1694159549, 'model': '/mnt/data00/yangxiaobo/.local/share/Open Interpreter/models/codellama-7b-instruct.Q3_K_S.gguf', 'choices': [{'text': 'ance', 'index': 0, 'logprobs': None, 'finish_reason': None}]}\n",
      "{'id': 'cmpl-aaef5d47-b483-49d8-8565-81db5b2094cb', 'object': 'text_completion', 'created': 1694159549, 'model': '/mnt/data00/yangxiaobo/.local/share/Open Interpreter/models/codellama-7b-instruct.Q3_K_S.gguf', 'choices': [{'text': '.', 'index': 0, 'logprobs': None, 'finish_reason': None}]}\n",
      "{'id': 'cmpl-aaef5d47-b483-49d8-8565-81db5b2094cb', 'object': 'text_completion', 'created': 1694159549, 'model': '/mnt/data00/yangxiaobo/.local/share/Open Interpreter/models/codellama-7b-instruct.Q3_K_S.gguf', 'choices': [{'text': ' We', 'index': 0, 'logprobs': None, 'finish_reason': None}]}\n",
      "{'id': 'cmpl-aaef5d47-b483-49d8-8565-81db5b2094cb', 'object': 'text_completion', 'created': 1694159549, 'model': '/mnt/data00/yangxiaobo/.local/share/Open Interpreter/models/codellama-7b-instruct.Q3_K_S.gguf', 'choices': [{'text': ' can', 'index': 0, 'logprobs': None, 'finish_reason': None}]}\n",
      "{'id': 'cmpl-aaef5d47-b483-49d8-8565-81db5b2094cb', 'object': 'text_completion', 'created': 1694159549, 'model': '/mnt/data00/yangxiaobo/.local/share/Open Interpreter/models/codellama-7b-instruct.Q3_K_S.gguf', 'choices': [{'text': ' use', 'index': 0, 'logprobs': None, 'finish_reason': None}]}\n",
      "{'id': 'cmpl-aaef5d47-b483-49d8-8565-81db5b2094cb', 'object': 'text_completion', 'created': 1694159549, 'model': '/mnt/data00/yangxiaobo/.local/share/Open Interpreter/models/codellama-7b-instruct.Q3_K_S.gguf', 'choices': [{'text': ' pandas', 'index': 0, 'logprobs': None, 'finish_reason': None}]}\n",
      "{'id': 'cmpl-aaef5d47-b483-49d8-8565-81db5b2094cb', 'object': 'text_completion', 'created': 1694159549, 'model': '/mnt/data00/yangxiaobo/.local/share/Open Interpreter/models/codellama-7b-instruct.Q3_K_S.gguf', 'choices': [{'text': ' to', 'index': 0, 'logprobs': None, 'finish_reason': None}]}\n",
      "{'id': 'cmpl-aaef5d47-b483-49d8-8565-81db5b2094cb', 'object': 'text_completion', 'created': 1694159549, 'model': '/mnt/data00/yangxiaobo/.local/share/Open Interpreter/models/codellama-7b-instruct.Q3_K_S.gguf', 'choices': [{'text': ' read', 'index': 0, 'logprobs': None, 'finish_reason': None}]}\n",
      "{'id': 'cmpl-aaef5d47-b483-49d8-8565-81db5b2094cb', 'object': 'text_completion', 'created': 1694159549, 'model': '/mnt/data00/yangxiaobo/.local/share/Open Interpreter/models/codellama-7b-instruct.Q3_K_S.gguf', 'choices': [{'text': ' the', 'index': 0, 'logprobs': None, 'finish_reason': None}]}\n",
      "{'id': 'cmpl-aaef5d47-b483-49d8-8565-81db5b2094cb', 'object': 'text_completion', 'created': 1694159549, 'model': '/mnt/data00/yangxiaobo/.local/share/Open Interpreter/models/codellama-7b-instruct.Q3_K_S.gguf', 'choices': [{'text': ' data', 'index': 0, 'logprobs': None, 'finish_reason': None}]}\n",
      "{'id': 'cmpl-aaef5d47-b483-49d8-8565-81db5b2094cb', 'object': 'text_completion', 'created': 1694159549, 'model': '/mnt/data00/yangxiaobo/.local/share/Open Interpreter/models/codellama-7b-instruct.Q3_K_S.gguf', 'choices': [{'text': ' into', 'index': 0, 'logprobs': None, 'finish_reason': None}]}\n",
      "{'id': 'cmpl-aaef5d47-b483-49d8-8565-81db5b2094cb', 'object': 'text_completion', 'created': 1694159549, 'model': '/mnt/data00/yangxiaobo/.local/share/Open Interpreter/models/codellama-7b-instruct.Q3_K_S.gguf', 'choices': [{'text': ' a', 'index': 0, 'logprobs': None, 'finish_reason': None}]}\n",
      "{'id': 'cmpl-aaef5d47-b483-49d8-8565-81db5b2094cb', 'object': 'text_completion', 'created': 1694159549, 'model': '/mnt/data00/yangxiaobo/.local/share/Open Interpreter/models/codellama-7b-instruct.Q3_K_S.gguf', 'choices': [{'text': ' dataframe', 'index': 0, 'logprobs': None, 'finish_reason': None}]}\n",
      "{'id': 'cmpl-aaef5d47-b483-49d8-8565-81db5b2094cb', 'object': 'text_completion', 'created': 1694159549, 'model': '/mnt/data00/yangxiaobo/.local/share/Open Interpreter/models/codellama-7b-instruct.Q3_K_S.gguf', 'choices': [{'text': '.', 'index': 0, 'logprobs': None, 'finish_reason': None}]}\n",
      "{'id': 'cmpl-aaef5d47-b483-49d8-8565-81db5b2094cb', 'object': 'text_completion', 'created': 1694159549, 'model': '/mnt/data00/yangxiaobo/.local/share/Open Interpreter/models/codellama-7b-instruct.Q3_K_S.gguf', 'choices': [{'text': '\\n', 'index': 0, 'logprobs': None, 'finish_reason': None}]}\n",
      "{'id': 'cmpl-aaef5d47-b483-49d8-8565-81db5b2094cb', 'object': 'text_completion', 'created': 1694159549, 'model': '/mnt/data00/yangxiaobo/.local/share/Open Interpreter/models/codellama-7b-instruct.Q3_K_S.gguf', 'choices': [{'text': '```', 'index': 0, 'logprobs': None, 'finish_reason': None}]}\n",
      "{'id': 'cmpl-aaef5d47-b483-49d8-8565-81db5b2094cb', 'object': 'text_completion', 'created': 1694159549, 'model': '/mnt/data00/yangxiaobo/.local/share/Open Interpreter/models/codellama-7b-instruct.Q3_K_S.gguf', 'choices': [{'text': 'python', 'index': 0, 'logprobs': None, 'finish_reason': None}]}\n",
      "{'id': 'cmpl-aaef5d47-b483-49d8-8565-81db5b2094cb', 'object': 'text_completion', 'created': 1694159549, 'model': '/mnt/data00/yangxiaobo/.local/share/Open Interpreter/models/codellama-7b-instruct.Q3_K_S.gguf', 'choices': [{'text': '\\n', 'index': 0, 'logprobs': None, 'finish_reason': None}]}\n",
      "{'id': 'cmpl-aaef5d47-b483-49d8-8565-81db5b2094cb', 'object': 'text_completion', 'created': 1694159549, 'model': '/mnt/data00/yangxiaobo/.local/share/Open Interpreter/models/codellama-7b-instruct.Q3_K_S.gguf', 'choices': [{'text': 'import', 'index': 0, 'logprobs': None, 'finish_reason': None}]}\n",
      "{'id': 'cmpl-aaef5d47-b483-49d8-8565-81db5b2094cb', 'object': 'text_completion', 'created': 1694159549, 'model': '/mnt/data00/yangxiaobo/.local/share/Open Interpreter/models/codellama-7b-instruct.Q3_K_S.gguf', 'choices': [{'text': ' pandas', 'index': 0, 'logprobs': None, 'finish_reason': None}]}\n",
      "{'id': 'cmpl-aaef5d47-b483-49d8-8565-81db5b2094cb', 'object': 'text_completion', 'created': 1694159549, 'model': '/mnt/data00/yangxiaobo/.local/share/Open Interpreter/models/codellama-7b-instruct.Q3_K_S.gguf', 'choices': [{'text': ' as', 'index': 0, 'logprobs': None, 'finish_reason': None}]}\n",
      "{'id': 'cmpl-aaef5d47-b483-49d8-8565-81db5b2094cb', 'object': 'text_completion', 'created': 1694159549, 'model': '/mnt/data00/yangxiaobo/.local/share/Open Interpreter/models/codellama-7b-instruct.Q3_K_S.gguf', 'choices': [{'text': ' pd', 'index': 0, 'logprobs': None, 'finish_reason': None}]}\n",
      "{'id': 'cmpl-aaef5d47-b483-49d8-8565-81db5b2094cb', 'object': 'text_completion', 'created': 1694159549, 'model': '/mnt/data00/yangxiaobo/.local/share/Open Interpreter/models/codellama-7b-instruct.Q3_K_S.gguf', 'choices': [{'text': '\\n', 'index': 0, 'logprobs': None, 'finish_reason': None}]}\n",
      "{'id': 'cmpl-aaef5d47-b483-49d8-8565-81db5b2094cb', 'object': 'text_completion', 'created': 1694159549, 'model': '/mnt/data00/yangxiaobo/.local/share/Open Interpreter/models/codellama-7b-instruct.Q3_K_S.gguf', 'choices': [{'text': 'df', 'index': 0, 'logprobs': None, 'finish_reason': None}]}\n",
      "{'id': 'cmpl-aaef5d47-b483-49d8-8565-81db5b2094cb', 'object': 'text_completion', 'created': 1694159549, 'model': '/mnt/data00/yangxiaobo/.local/share/Open Interpreter/models/codellama-7b-instruct.Q3_K_S.gguf', 'choices': [{'text': ' =', 'index': 0, 'logprobs': None, 'finish_reason': None}]}\n",
      "{'id': 'cmpl-aaef5d47-b483-49d8-8565-81db5b2094cb', 'object': 'text_completion', 'created': 1694159549, 'model': '/mnt/data00/yangxiaobo/.local/share/Open Interpreter/models/codellama-7b-instruct.Q3_K_S.gguf', 'choices': [{'text': ' pd', 'index': 0, 'logprobs': None, 'finish_reason': None}]}\n",
      "{'id': 'cmpl-aaef5d47-b483-49d8-8565-81db5b2094cb', 'object': 'text_completion', 'created': 1694159549, 'model': '/mnt/data00/yangxiaobo/.local/share/Open Interpreter/models/codellama-7b-instruct.Q3_K_S.gguf', 'choices': [{'text': '.', 'index': 0, 'logprobs': None, 'finish_reason': None}]}\n",
      "{'id': 'cmpl-aaef5d47-b483-49d8-8565-81db5b2094cb', 'object': 'text_completion', 'created': 1694159549, 'model': '/mnt/data00/yangxiaobo/.local/share/Open Interpreter/models/codellama-7b-instruct.Q3_K_S.gguf', 'choices': [{'text': 'read', 'index': 0, 'logprobs': None, 'finish_reason': None}]}\n",
      "{'id': 'cmpl-aaef5d47-b483-49d8-8565-81db5b2094cb', 'object': 'text_completion', 'created': 1694159549, 'model': '/mnt/data00/yangxiaobo/.local/share/Open Interpreter/models/codellama-7b-instruct.Q3_K_S.gguf', 'choices': [{'text': '_', 'index': 0, 'logprobs': None, 'finish_reason': None}]}\n",
      "{'id': 'cmpl-aaef5d47-b483-49d8-8565-81db5b2094cb', 'object': 'text_completion', 'created': 1694159549, 'model': '/mnt/data00/yangxiaobo/.local/share/Open Interpreter/models/codellama-7b-instruct.Q3_K_S.gguf', 'choices': [{'text': 'csv', 'index': 0, 'logprobs': None, 'finish_reason': None}]}\n",
      "{'id': 'cmpl-aaef5d47-b483-49d8-8565-81db5b2094cb', 'object': 'text_completion', 'created': 1694159549, 'model': '/mnt/data00/yangxiaobo/.local/share/Open Interpreter/models/codellama-7b-instruct.Q3_K_S.gguf', 'choices': [{'text': \"('\", 'index': 0, 'logprobs': None, 'finish_reason': None}]}\n",
      "{'id': 'cmpl-aaef5d47-b483-49d8-8565-81db5b2094cb', 'object': 'text_completion', 'created': 1694159549, 'model': '/mnt/data00/yangxiaobo/.local/share/Open Interpreter/models/codellama-7b-instruct.Q3_K_S.gguf', 'choices': [{'text': 'stock', 'index': 0, 'logprobs': None, 'finish_reason': None}]}\n",
      "{'id': 'cmpl-aaef5d47-b483-49d8-8565-81db5b2094cb', 'object': 'text_completion', 'created': 1694159549, 'model': '/mnt/data00/yangxiaobo/.local/share/Open Interpreter/models/codellama-7b-instruct.Q3_K_S.gguf', 'choices': [{'text': '_', 'index': 0, 'logprobs': None, 'finish_reason': None}]}\n",
      "{'id': 'cmpl-aaef5d47-b483-49d8-8565-81db5b2094cb', 'object': 'text_completion', 'created': 1694159549, 'model': '/mnt/data00/yangxiaobo/.local/share/Open Interpreter/models/codellama-7b-instruct.Q3_K_S.gguf', 'choices': [{'text': 'pr', 'index': 0, 'logprobs': None, 'finish_reason': None}]}\n",
      "{'id': 'cmpl-aaef5d47-b483-49d8-8565-81db5b2094cb', 'object': 'text_completion', 'created': 1694159549, 'model': '/mnt/data00/yangxiaobo/.local/share/Open Interpreter/models/codellama-7b-instruct.Q3_K_S.gguf', 'choices': [{'text': 'ices', 'index': 0, 'logprobs': None, 'finish_reason': None}]}\n",
      "{'id': 'cmpl-aaef5d47-b483-49d8-8565-81db5b2094cb', 'object': 'text_completion', 'created': 1694159549, 'model': '/mnt/data00/yangxiaobo/.local/share/Open Interpreter/models/codellama-7b-instruct.Q3_K_S.gguf', 'choices': [{'text': '.', 'index': 0, 'logprobs': None, 'finish_reason': None}]}\n",
      "{'id': 'cmpl-aaef5d47-b483-49d8-8565-81db5b2094cb', 'object': 'text_completion', 'created': 1694159549, 'model': '/mnt/data00/yangxiaobo/.local/share/Open Interpreter/models/codellama-7b-instruct.Q3_K_S.gguf', 'choices': [{'text': 'csv', 'index': 0, 'logprobs': None, 'finish_reason': None}]}\n",
      "{'id': 'cmpl-aaef5d47-b483-49d8-8565-81db5b2094cb', 'object': 'text_completion', 'created': 1694159549, 'model': '/mnt/data00/yangxiaobo/.local/share/Open Interpreter/models/codellama-7b-instruct.Q3_K_S.gguf', 'choices': [{'text': \"')\", 'index': 0, 'logprobs': None, 'finish_reason': None}]}\n",
      "{'id': 'cmpl-aaef5d47-b483-49d8-8565-81db5b2094cb', 'object': 'text_completion', 'created': 1694159549, 'model': '/mnt/data00/yangxiaobo/.local/share/Open Interpreter/models/codellama-7b-instruct.Q3_K_S.gguf', 'choices': [{'text': '\\n', 'index': 0, 'logprobs': None, 'finish_reason': None}]}\n",
      "{'id': 'cmpl-aaef5d47-b483-49d8-8565-81db5b2094cb', 'object': 'text_completion', 'created': 1694159549, 'model': '/mnt/data00/yangxiaobo/.local/share/Open Interpreter/models/codellama-7b-instruct.Q3_K_S.gguf', 'choices': [{'text': 'print', 'index': 0, 'logprobs': None, 'finish_reason': None}]}\n",
      "{'id': 'cmpl-aaef5d47-b483-49d8-8565-81db5b2094cb', 'object': 'text_completion', 'created': 1694159549, 'model': '/mnt/data00/yangxiaobo/.local/share/Open Interpreter/models/codellama-7b-instruct.Q3_K_S.gguf', 'choices': [{'text': '(', 'index': 0, 'logprobs': None, 'finish_reason': None}]}\n",
      "{'id': 'cmpl-aaef5d47-b483-49d8-8565-81db5b2094cb', 'object': 'text_completion', 'created': 1694159549, 'model': '/mnt/data00/yangxiaobo/.local/share/Open Interpreter/models/codellama-7b-instruct.Q3_K_S.gguf', 'choices': [{'text': 'df', 'index': 0, 'logprobs': None, 'finish_reason': None}]}\n",
      "{'id': 'cmpl-aaef5d47-b483-49d8-8565-81db5b2094cb', 'object': 'text_completion', 'created': 1694159549, 'model': '/mnt/data00/yangxiaobo/.local/share/Open Interpreter/models/codellama-7b-instruct.Q3_K_S.gguf', 'choices': [{'text': ')', 'index': 0, 'logprobs': None, 'finish_reason': None}]}\n",
      "{'id': 'cmpl-aaef5d47-b483-49d8-8565-81db5b2094cb', 'object': 'text_completion', 'created': 1694159549, 'model': '/mnt/data00/yangxiaobo/.local/share/Open Interpreter/models/codellama-7b-instruct.Q3_K_S.gguf', 'choices': [{'text': '\\n', 'index': 0, 'logprobs': None, 'finish_reason': None}]}\n",
      "{'id': 'cmpl-aaef5d47-b483-49d8-8565-81db5b2094cb', 'object': 'text_completion', 'created': 1694159549, 'model': '/mnt/data00/yangxiaobo/.local/share/Open Interpreter/models/codellama-7b-instruct.Q3_K_S.gguf', 'choices': [{'text': '```', 'index': 0, 'logprobs': None, 'finish_reason': None}]}\n",
      "{'id': 'cmpl-aaef5d47-b483-49d8-8565-81db5b2094cb', 'object': 'text_completion', 'created': 1694159549, 'model': '/mnt/data00/yangxiaobo/.local/share/Open Interpreter/models/codellama-7b-instruct.Q3_K_S.gguf', 'choices': [{'text': '\\n', 'index': 0, 'logprobs': None, 'finish_reason': None}]}\n",
      "{'id': 'cmpl-aaef5d47-b483-49d8-8565-81db5b2094cb', 'object': 'text_completion', 'created': 1694159549, 'model': '/mnt/data00/yangxiaobo/.local/share/Open Interpreter/models/codellama-7b-instruct.Q3_K_S.gguf', 'choices': [{'text': 'This', 'index': 0, 'logprobs': None, 'finish_reason': None}]}\n",
      "{'id': 'cmpl-aaef5d47-b483-49d8-8565-81db5b2094cb', 'object': 'text_completion', 'created': 1694159549, 'model': '/mnt/data00/yangxiaobo/.local/share/Open Interpreter/models/codellama-7b-instruct.Q3_K_S.gguf', 'choices': [{'text': ' will', 'index': 0, 'logprobs': None, 'finish_reason': None}]}\n",
      "{'id': 'cmpl-aaef5d47-b483-49d8-8565-81db5b2094cb', 'object': 'text_completion', 'created': 1694159549, 'model': '/mnt/data00/yangxiaobo/.local/share/Open Interpreter/models/codellama-7b-instruct.Q3_K_S.gguf', 'choices': [{'text': ' give', 'index': 0, 'logprobs': None, 'finish_reason': None}]}\n",
      "{'id': 'cmpl-aaef5d47-b483-49d8-8565-81db5b2094cb', 'object': 'text_completion', 'created': 1694159549, 'model': '/mnt/data00/yangxiaobo/.local/share/Open Interpreter/models/codellama-7b-instruct.Q3_K_S.gguf', 'choices': [{'text': ' us', 'index': 0, 'logprobs': None, 'finish_reason': None}]}\n",
      "{'id': 'cmpl-aaef5d47-b483-49d8-8565-81db5b2094cb', 'object': 'text_completion', 'created': 1694159549, 'model': '/mnt/data00/yangxiaobo/.local/share/Open Interpreter/models/codellama-7b-instruct.Q3_K_S.gguf', 'choices': [{'text': ' the', 'index': 0, 'logprobs': None, 'finish_reason': None}]}\n",
      "{'id': 'cmpl-aaef5d47-b483-49d8-8565-81db5b2094cb', 'object': 'text_completion', 'created': 1694159549, 'model': '/mnt/data00/yangxiaobo/.local/share/Open Interpreter/models/codellama-7b-instruct.Q3_K_S.gguf', 'choices': [{'text': ' following', 'index': 0, 'logprobs': None, 'finish_reason': None}]}\n",
      "{'id': 'cmpl-aaef5d47-b483-49d8-8565-81db5b2094cb', 'object': 'text_completion', 'created': 1694159549, 'model': '/mnt/data00/yangxiaobo/.local/share/Open Interpreter/models/codellama-7b-instruct.Q3_K_S.gguf', 'choices': [{'text': ' output', 'index': 0, 'logprobs': None, 'finish_reason': None}]}\n",
      "{'id': 'cmpl-aaef5d47-b483-49d8-8565-81db5b2094cb', 'object': 'text_completion', 'created': 1694159549, 'model': '/mnt/data00/yangxiaobo/.local/share/Open Interpreter/models/codellama-7b-instruct.Q3_K_S.gguf', 'choices': [{'text': ':', 'index': 0, 'logprobs': None, 'finish_reason': None}]}\n",
      "{'id': 'cmpl-aaef5d47-b483-49d8-8565-81db5b2094cb', 'object': 'text_completion', 'created': 1694159549, 'model': '/mnt/data00/yangxiaobo/.local/share/Open Interpreter/models/codellama-7b-instruct.Q3_K_S.gguf', 'choices': [{'text': '\\n', 'index': 0, 'logprobs': None, 'finish_reason': None}]}\n",
      "{'id': 'cmpl-aaef5d47-b483-49d8-8565-81db5b2094cb', 'object': 'text_completion', 'created': 1694159549, 'model': '/mnt/data00/yangxiaobo/.local/share/Open Interpreter/models/codellama-7b-instruct.Q3_K_S.gguf', 'choices': [{'text': '```', 'index': 0, 'logprobs': None, 'finish_reason': None}]}\n",
      "{'id': 'cmpl-aaef5d47-b483-49d8-8565-81db5b2094cb', 'object': 'text_completion', 'created': 1694159549, 'model': '/mnt/data00/yangxiaobo/.local/share/Open Interpreter/models/codellama-7b-instruct.Q3_K_S.gguf', 'choices': [{'text': '\\n', 'index': 0, 'logprobs': None, 'finish_reason': None}]}\n",
      "{'id': 'cmpl-aaef5d47-b483-49d8-8565-81db5b2094cb', 'object': 'text_completion', 'created': 1694159549, 'model': '/mnt/data00/yangxiaobo/.local/share/Open Interpreter/models/codellama-7b-instruct.Q3_K_S.gguf', 'choices': [{'text': '         ', 'index': 0, 'logprobs': None, 'finish_reason': None}]}\n",
      "{'id': 'cmpl-aaef5d47-b483-49d8-8565-81db5b2094cb', 'object': 'text_completion', 'created': 1694159549, 'model': '/mnt/data00/yangxiaobo/.local/share/Open Interpreter/models/codellama-7b-instruct.Q3_K_S.gguf', 'choices': [{'text': ' Date', 'index': 0, 'logprobs': None, 'finish_reason': None}]}\n",
      "{'id': 'cmpl-aaef5d47-b483-49d8-8565-81db5b2094cb', 'object': 'text_completion', 'created': 1694159549, 'model': '/mnt/data00/yangxiaobo/.local/share/Open Interpreter/models/codellama-7b-instruct.Q3_K_S.gguf', 'choices': [{'text': '   ', 'index': 0, 'logprobs': None, 'finish_reason': None}]}\n",
      "{'id': 'cmpl-aaef5d47-b483-49d8-8565-81db5b2094cb', 'object': 'text_completion', 'created': 1694159549, 'model': '/mnt/data00/yangxiaobo/.local/share/Open Interpreter/models/codellama-7b-instruct.Q3_K_S.gguf', 'choices': [{'text': ' Open', 'index': 0, 'logprobs': None, 'finish_reason': None}]}\n",
      "{'id': 'cmpl-aaef5d47-b483-49d8-8565-81db5b2094cb', 'object': 'text_completion', 'created': 1694159549, 'model': '/mnt/data00/yangxiaobo/.local/share/Open Interpreter/models/codellama-7b-instruct.Q3_K_S.gguf', 'choices': [{'text': '   ', 'index': 0, 'logprobs': None, 'finish_reason': None}]}\n",
      "{'id': 'cmpl-aaef5d47-b483-49d8-8565-81db5b2094cb', 'object': 'text_completion', 'created': 1694159549, 'model': '/mnt/data00/yangxiaobo/.local/share/Open Interpreter/models/codellama-7b-instruct.Q3_K_S.gguf', 'choices': [{'text': ' High', 'index': 0, 'logprobs': None, 'finish_reason': None}]}\n",
      "{'id': 'cmpl-aaef5d47-b483-49d8-8565-81db5b2094cb', 'object': 'text_completion', 'created': 1694159549, 'model': '/mnt/data00/yangxiaobo/.local/share/Open Interpreter/models/codellama-7b-instruct.Q3_K_S.gguf', 'choices': [{'text': '    ', 'index': 0, 'logprobs': None, 'finish_reason': None}]}\n",
      "{'id': 'cmpl-aaef5d47-b483-49d8-8565-81db5b2094cb', 'object': 'text_completion', 'created': 1694159549, 'model': '/mnt/data00/yangxiaobo/.local/share/Open Interpreter/models/codellama-7b-instruct.Q3_K_S.gguf', 'choices': [{'text': ' Low', 'index': 0, 'logprobs': None, 'finish_reason': None}]}\n",
      "{'id': 'cmpl-aaef5d47-b483-49d8-8565-81db5b2094cb', 'object': 'text_completion', 'created': 1694159549, 'model': '/mnt/data00/yangxiaobo/.local/share/Open Interpreter/models/codellama-7b-instruct.Q3_K_S.gguf', 'choices': [{'text': '  ', 'index': 0, 'logprobs': None, 'finish_reason': None}]}\n",
      "{'id': 'cmpl-aaef5d47-b483-49d8-8565-81db5b2094cb', 'object': 'text_completion', 'created': 1694159549, 'model': '/mnt/data00/yangxiaobo/.local/share/Open Interpreter/models/codellama-7b-instruct.Q3_K_S.gguf', 'choices': [{'text': ' Close', 'index': 0, 'logprobs': None, 'finish_reason': None}]}\n",
      "{'id': 'cmpl-aaef5d47-b483-49d8-8565-81db5b2094cb', 'object': 'text_completion', 'created': 1694159549, 'model': '/mnt/data00/yangxiaobo/.local/share/Open Interpreter/models/codellama-7b-instruct.Q3_K_S.gguf', 'choices': [{'text': ' ', 'index': 0, 'logprobs': None, 'finish_reason': None}]}\n",
      "{'id': 'cmpl-aaef5d47-b483-49d8-8565-81db5b2094cb', 'object': 'text_completion', 'created': 1694159549, 'model': '/mnt/data00/yangxiaobo/.local/share/Open Interpreter/models/codellama-7b-instruct.Q3_K_S.gguf', 'choices': [{'text': ' Ad', 'index': 0, 'logprobs': None, 'finish_reason': None}]}\n",
      "{'id': 'cmpl-aaef5d47-b483-49d8-8565-81db5b2094cb', 'object': 'text_completion', 'created': 1694159549, 'model': '/mnt/data00/yangxiaobo/.local/share/Open Interpreter/models/codellama-7b-instruct.Q3_K_S.gguf', 'choices': [{'text': 'j', 'index': 0, 'logprobs': None, 'finish_reason': None}]}\n",
      "{'id': 'cmpl-aaef5d47-b483-49d8-8565-81db5b2094cb', 'object': 'text_completion', 'created': 1694159549, 'model': '/mnt/data00/yangxiaobo/.local/share/Open Interpreter/models/codellama-7b-instruct.Q3_K_S.gguf', 'choices': [{'text': ' Close', 'index': 0, 'logprobs': None, 'finish_reason': None}]}\n",
      "{'id': 'cmpl-aaef5d47-b483-49d8-8565-81db5b2094cb', 'object': 'text_completion', 'created': 1694159549, 'model': '/mnt/data00/yangxiaobo/.local/share/Open Interpreter/models/codellama-7b-instruct.Q3_K_S.gguf', 'choices': [{'text': '\\n', 'index': 0, 'logprobs': None, 'finish_reason': None}]}\n",
      "{'id': 'cmpl-aaef5d47-b483-49d8-8565-81db5b2094cb', 'object': 'text_completion', 'created': 1694159549, 'model': '/mnt/data00/yangxiaobo/.local/share/Open Interpreter/models/codellama-7b-instruct.Q3_K_S.gguf', 'choices': [{'text': '0', 'index': 0, 'logprobs': None, 'finish_reason': None}]}\n",
      "{'id': 'cmpl-aaef5d47-b483-49d8-8565-81db5b2094cb', 'object': 'text_completion', 'created': 1694159549, 'model': '/mnt/data00/yangxiaobo/.local/share/Open Interpreter/models/codellama-7b-instruct.Q3_K_S.gguf', 'choices': [{'text': '   ', 'index': 0, 'logprobs': None, 'finish_reason': None}]}\n",
      "{'id': 'cmpl-aaef5d47-b483-49d8-8565-81db5b2094cb', 'object': 'text_completion', 'created': 1694159549, 'model': '/mnt/data00/yangxiaobo/.local/share/Open Interpreter/models/codellama-7b-instruct.Q3_K_S.gguf', 'choices': [{'text': '2', 'index': 0, 'logprobs': None, 'finish_reason': None}]}\n",
      "{'id': 'cmpl-aaef5d47-b483-49d8-8565-81db5b2094cb', 'object': 'text_completion', 'created': 1694159549, 'model': '/mnt/data00/yangxiaobo/.local/share/Open Interpreter/models/codellama-7b-instruct.Q3_K_S.gguf', 'choices': [{'text': '0', 'index': 0, 'logprobs': None, 'finish_reason': None}]}\n",
      "{'id': 'cmpl-aaef5d47-b483-49d8-8565-81db5b2094cb', 'object': 'text_completion', 'created': 1694159549, 'model': '/mnt/data00/yangxiaobo/.local/share/Open Interpreter/models/codellama-7b-instruct.Q3_K_S.gguf', 'choices': [{'text': '1', 'index': 0, 'logprobs': None, 'finish_reason': None}]}\n",
      "{'id': 'cmpl-aaef5d47-b483-49d8-8565-81db5b2094cb', 'object': 'text_completion', 'created': 1694159549, 'model': '/mnt/data00/yangxiaobo/.local/share/Open Interpreter/models/codellama-7b-instruct.Q3_K_S.gguf', 'choices': [{'text': '8', 'index': 0, 'logprobs': None, 'finish_reason': None}]}\n",
      "{'id': 'cmpl-aaef5d47-b483-49d8-8565-81db5b2094cb', 'object': 'text_completion', 'created': 1694159549, 'model': '/mnt/data00/yangxiaobo/.local/share/Open Interpreter/models/codellama-7b-instruct.Q3_K_S.gguf', 'choices': [{'text': '-', 'index': 0, 'logprobs': None, 'finish_reason': None}]}\n",
      "{'id': 'cmpl-aaef5d47-b483-49d8-8565-81db5b2094cb', 'object': 'text_completion', 'created': 1694159549, 'model': '/mnt/data00/yangxiaobo/.local/share/Open Interpreter/models/codellama-7b-instruct.Q3_K_S.gguf', 'choices': [{'text': '0', 'index': 0, 'logprobs': None, 'finish_reason': None}]}\n",
      "{'id': 'cmpl-aaef5d47-b483-49d8-8565-81db5b2094cb', 'object': 'text_completion', 'created': 1694159549, 'model': '/mnt/data00/yangxiaobo/.local/share/Open Interpreter/models/codellama-7b-instruct.Q3_K_S.gguf', 'choices': [{'text': '6', 'index': 0, 'logprobs': None, 'finish_reason': None}]}\n",
      "{'id': 'cmpl-aaef5d47-b483-49d8-8565-81db5b2094cb', 'object': 'text_completion', 'created': 1694159549, 'model': '/mnt/data00/yangxiaobo/.local/share/Open Interpreter/models/codellama-7b-instruct.Q3_K_S.gguf', 'choices': [{'text': '-', 'index': 0, 'logprobs': None, 'finish_reason': None}]}\n",
      "{'id': 'cmpl-aaef5d47-b483-49d8-8565-81db5b2094cb', 'object': 'text_completion', 'created': 1694159549, 'model': '/mnt/data00/yangxiaobo/.local/share/Open Interpreter/models/codellama-7b-instruct.Q3_K_S.gguf', 'choices': [{'text': '0', 'index': 0, 'logprobs': None, 'finish_reason': None}]}\n",
      "{'id': 'cmpl-aaef5d47-b483-49d8-8565-81db5b2094cb', 'object': 'text_completion', 'created': 1694159549, 'model': '/mnt/data00/yangxiaobo/.local/share/Open Interpreter/models/codellama-7b-instruct.Q3_K_S.gguf', 'choices': [{'text': '1', 'index': 0, 'logprobs': None, 'finish_reason': None}]}\n",
      "{'id': 'cmpl-aaef5d47-b483-49d8-8565-81db5b2094cb', 'object': 'text_completion', 'created': 1694159549, 'model': '/mnt/data00/yangxiaobo/.local/share/Open Interpreter/models/codellama-7b-instruct.Q3_K_S.gguf', 'choices': [{'text': '  ', 'index': 0, 'logprobs': None, 'finish_reason': None}]}\n",
      "{'id': 'cmpl-aaef5d47-b483-49d8-8565-81db5b2094cb', 'object': 'text_completion', 'created': 1694159549, 'model': '/mnt/data00/yangxiaobo/.local/share/Open Interpreter/models/codellama-7b-instruct.Q3_K_S.gguf', 'choices': [{'text': '1', 'index': 0, 'logprobs': None, 'finish_reason': None}]}\n",
      "{'id': 'cmpl-aaef5d47-b483-49d8-8565-81db5b2094cb', 'object': 'text_completion', 'created': 1694159549, 'model': '/mnt/data00/yangxiaobo/.local/share/Open Interpreter/models/codellama-7b-instruct.Q3_K_S.gguf', 'choices': [{'text': '5', 'index': 0, 'logprobs': None, 'finish_reason': None}]}\n",
      "{'id': 'cmpl-aaef5d47-b483-49d8-8565-81db5b2094cb', 'object': 'text_completion', 'created': 1694159549, 'model': '/mnt/data00/yangxiaobo/.local/share/Open Interpreter/models/codellama-7b-instruct.Q3_K_S.gguf', 'choices': [{'text': '3', 'index': 0, 'logprobs': None, 'finish_reason': None}]}\n",
      "{'id': 'cmpl-aaef5d47-b483-49d8-8565-81db5b2094cb', 'object': 'text_completion', 'created': 1694159549, 'model': '/mnt/data00/yangxiaobo/.local/share/Open Interpreter/models/codellama-7b-instruct.Q3_K_S.gguf', 'choices': [{'text': '.', 'index': 0, 'logprobs': None, 'finish_reason': None}]}\n",
      "{'id': 'cmpl-aaef5d47-b483-49d8-8565-81db5b2094cb', 'object': 'text_completion', 'created': 1694159549, 'model': '/mnt/data00/yangxiaobo/.local/share/Open Interpreter/models/codellama-7b-instruct.Q3_K_S.gguf', 'choices': [{'text': '7', 'index': 0, 'logprobs': None, 'finish_reason': None}]}\n",
      "{'id': 'cmpl-aaef5d47-b483-49d8-8565-81db5b2094cb', 'object': 'text_completion', 'created': 1694159549, 'model': '/mnt/data00/yangxiaobo/.local/share/Open Interpreter/models/codellama-7b-instruct.Q3_K_S.gguf', 'choices': [{'text': '9', 'index': 0, 'logprobs': None, 'finish_reason': None}]}\n",
      "{'id': 'cmpl-aaef5d47-b483-49d8-8565-81db5b2094cb', 'object': 'text_completion', 'created': 1694159549, 'model': '/mnt/data00/yangxiaobo/.local/share/Open Interpreter/models/codellama-7b-instruct.Q3_K_S.gguf', 'choices': [{'text': '  ', 'index': 0, 'logprobs': None, 'finish_reason': None}]}\n",
      "{'id': 'cmpl-aaef5d47-b483-49d8-8565-81db5b2094cb', 'object': 'text_completion', 'created': 1694159549, 'model': '/mnt/data00/yangxiaobo/.local/share/Open Interpreter/models/codellama-7b-instruct.Q3_K_S.gguf', 'choices': [{'text': '1', 'index': 0, 'logprobs': None, 'finish_reason': None}]}\n",
      "{'id': 'cmpl-aaef5d47-b483-49d8-8565-81db5b2094cb', 'object': 'text_completion', 'created': 1694159549, 'model': '/mnt/data00/yangxiaobo/.local/share/Open Interpreter/models/codellama-7b-instruct.Q3_K_S.gguf', 'choices': [{'text': '5', 'index': 0, 'logprobs': None, 'finish_reason': None}]}\n",
      "{'id': 'cmpl-aaef5d47-b483-49d8-8565-81db5b2094cb', 'object': 'text_completion', 'created': 1694159549, 'model': '/mnt/data00/yangxiaobo/.local/share/Open Interpreter/models/codellama-7b-instruct.Q3_K_S.gguf', 'choices': [{'text': '4', 'index': 0, 'logprobs': None, 'finish_reason': None}]}\n",
      "{'id': 'cmpl-aaef5d47-b483-49d8-8565-81db5b2094cb', 'object': 'text_completion', 'created': 1694159549, 'model': '/mnt/data00/yangxiaobo/.local/share/Open Interpreter/models/codellama-7b-instruct.Q3_K_S.gguf', 'choices': [{'text': '.', 'index': 0, 'logprobs': None, 'finish_reason': None}]}\n",
      "{'id': 'cmpl-aaef5d47-b483-49d8-8565-81db5b2094cb', 'object': 'text_completion', 'created': 1694159549, 'model': '/mnt/data00/yangxiaobo/.local/share/Open Interpreter/models/codellama-7b-instruct.Q3_K_S.gguf', 'choices': [{'text': '2', 'index': 0, 'logprobs': None, 'finish_reason': None}]}\n",
      "{'id': 'cmpl-aaef5d47-b483-49d8-8565-81db5b2094cb', 'object': 'text_completion', 'created': 1694159549, 'model': '/mnt/data00/yangxiaobo/.local/share/Open Interpreter/models/codellama-7b-instruct.Q3_K_S.gguf', 'choices': [{'text': '9', 'index': 0, 'logprobs': None, 'finish_reason': None}]}\n",
      "{'id': 'cmpl-aaef5d47-b483-49d8-8565-81db5b2094cb', 'object': 'text_completion', 'created': 1694159549, 'model': '/mnt/data00/yangxiaobo/.local/share/Open Interpreter/models/codellama-7b-instruct.Q3_K_S.gguf', 'choices': [{'text': '  ', 'index': 0, 'logprobs': None, 'finish_reason': None}]}\n",
      "{'id': 'cmpl-aaef5d47-b483-49d8-8565-81db5b2094cb', 'object': 'text_completion', 'created': 1694159549, 'model': '/mnt/data00/yangxiaobo/.local/share/Open Interpreter/models/codellama-7b-instruct.Q3_K_S.gguf', 'choices': [{'text': '1', 'index': 0, 'logprobs': None, 'finish_reason': None}]}\n",
      "{'id': 'cmpl-aaef5d47-b483-49d8-8565-81db5b2094cb', 'object': 'text_completion', 'created': 1694159549, 'model': '/mnt/data00/yangxiaobo/.local/share/Open Interpreter/models/codellama-7b-instruct.Q3_K_S.gguf', 'choices': [{'text': '5', 'index': 0, 'logprobs': None, 'finish_reason': None}]}\n",
      "{'id': 'cmpl-aaef5d47-b483-49d8-8565-81db5b2094cb', 'object': 'text_completion', 'created': 1694159549, 'model': '/mnt/data00/yangxiaobo/.local/share/Open Interpreter/models/codellama-7b-instruct.Q3_K_S.gguf', 'choices': [{'text': '3', 'index': 0, 'logprobs': None, 'finish_reason': None}]}\n",
      "{'id': 'cmpl-aaef5d47-b483-49d8-8565-81db5b2094cb', 'object': 'text_completion', 'created': 1694159549, 'model': '/mnt/data00/yangxiaobo/.local/share/Open Interpreter/models/codellama-7b-instruct.Q3_K_S.gguf', 'choices': [{'text': '.', 'index': 0, 'logprobs': None, 'finish_reason': None}]}\n",
      "{'id': 'cmpl-aaef5d47-b483-49d8-8565-81db5b2094cb', 'object': 'text_completion', 'created': 1694159549, 'model': '/mnt/data00/yangxiaobo/.local/share/Open Interpreter/models/codellama-7b-instruct.Q3_K_S.gguf', 'choices': [{'text': '7', 'index': 0, 'logprobs': None, 'finish_reason': None}]}\n"
     ]
    }
   ],
   "source": [
    "# chunk块的信息格式\n",
    "resp = llm(\n",
    "        prompt,\n",
    "        stream=True,\n",
    "        temperature=0.001,\n",
    "        stop=[\"</s>\"]\n",
    "      )\n",
    "\n",
    "txt = ''\n",
    "for chunk in resp:\n",
    "    print(chunk)"
   ]
  },
  {
   "cell_type": "markdown",
   "metadata": {},
   "source": [
    "格式化model output"
   ]
  },
  {
   "cell_type": "code",
   "execution_count": 49,
   "metadata": {},
   "outputs": [
    {
     "data": {
      "text/plain": [
       "[{'role': 'system',\n",
       "  'content': \"You are Open Interpreter, a world-class programmer that can complete any goal by executing code.\\nFirst, write a plan. **Always recap the plan between each code block** (you have extreme short-term memory loss, so you need to recap the plan between each message block to retain it).\\nWhen you send a message containing code to run_code, it will be executed **on the user's machine**. The user has given you **full and complete permission** to execute any code necessary to complete the task. You have full access to control their computer to help them. Code entered into run_code will be executed **in the users local environment**.\\nOnly do what the user asks you to do, then ask what they'd like to do next.\\n\\n[User Info]\\nName: yangxiaobo\\nCWD: /mnt/data00/yangxiaobo/llarb/eval/open_interpreter\\nOS: Linux\\n\\nTo run code, write a fenced code block (i.e ```python or ```shell) in markdown. When you close it with ```, it will be run. You'll then be given its output.\"},\n",
       " {'role': 'user',\n",
       "  'content': \"Plot APPL and META's normalized stock prices use python\"},\n",
       " {'role': 'assistant'}]"
      ]
     },
     "execution_count": 49,
     "metadata": {},
     "output_type": "execute_result"
    }
   ],
   "source": [
    "messages.append({})\n",
    "messages[-1][\"role\"] = \"assistant\"\n",
    "messages"
   ]
  },
  {
   "cell_type": "code",
   "execution_count": 50,
   "metadata": {},
   "outputs": [
    {
     "name": "stdout",
     "output_type": "stream",
     "text": [
      "[{'role': 'system', 'content': \"You are Open Interpreter, a world-class programmer that can complete any goal by executing code.\\nFirst, write a plan. **Always recap the plan between each code block** (you have extreme short-term memory loss, so you need to recap the plan between each message block to retain it).\\nWhen you send a message containing code to run_code, it will be executed **on the user's machine**. The user has given you **full and complete permission** to execute any code necessary to complete the task. You have full access to control their computer to help them. Code entered into run_code will be executed **in the users local environment**.\\nOnly do what the user asks you to do, then ask what they'd like to do next.\\n\\n[User Info]\\nName: yangxiaobo\\nCWD: /mnt/data00/yangxiaobo/llarb/eval/open_interpreter\\nOS: Linux\\n\\nTo run code, write a fenced code block (i.e ```python or ```shell) in markdown. When you close it with ```, it will be run. You'll then be given its output.\"}, {'role': 'user', 'content': \"Plot APPL and META's normalized stock prices use python\"}, {'role': 'assistant', 'content': \"\\n\\nLet's start with some data. We have APPL and META stock prices from Yahoo Finance. We can use pandas to read the data into a dataframe.\\n```python\\nimport pandas as pd\\ndf = pd.read_csv('stock_prices.csv')\\nprint(df)\\n```\\nThis will give us the following output:\\n```\\n          Date    Open    High     Low   Close  Adj Close\\n0   2018-06-01  153.79  154.29  153.7\"}]\n"
     ]
    }
   ],
   "source": [
    "from interpreter.utils import merge_deltas\n",
    "\n",
    "resp = llm(\n",
    "        prompt,\n",
    "        stream=True,\n",
    "        temperature=0.001,\n",
    "        stop=[\"</s>\"]\n",
    "      )\n",
    "\n",
    "txt = ''\n",
    "for chunk in resp:\n",
    "\n",
    "    delta = {\"content\": chunk[\"choices\"][0][\"text\"]}\n",
    "    messages[-1] = merge_deltas(messages[-1], delta)\n",
    "\n",
    "print(messages)"
   ]
  },
  {
   "cell_type": "code",
   "execution_count": 51,
   "metadata": {},
   "outputs": [
    {
     "data": {
      "text/plain": [
       "[{'role': 'system',\n",
       "  'content': \"You are Open Interpreter, a world-class programmer that can complete any goal by executing code.\\nFirst, write a plan. **Always recap the plan between each code block** (you have extreme short-term memory loss, so you need to recap the plan between each message block to retain it).\\nWhen you send a message containing code to run_code, it will be executed **on the user's machine**. The user has given you **full and complete permission** to execute any code necessary to complete the task. You have full access to control their computer to help them. Code entered into run_code will be executed **in the users local environment**.\\nOnly do what the user asks you to do, then ask what they'd like to do next.\\n\\n[User Info]\\nName: yangxiaobo\\nCWD: /mnt/data00/yangxiaobo/llarb/eval/open_interpreter\\nOS: Linux\\n\\nTo run code, write a fenced code block (i.e ```python or ```shell) in markdown. When you close it with ```, it will be run. You'll then be given its output.\"},\n",
       " {'role': 'user',\n",
       "  'content': \"Plot APPL and META's normalized stock prices use python\"},\n",
       " {'role': 'assistant',\n",
       "  'content': \"\\n\\nLet's start with some data. We have APPL and META stock prices from Yahoo Finance. We can use pandas to read the data into a dataframe.\\n```python\\nimport pandas as pd\\ndf = pd.read_csv('stock_prices.csv')\\nprint(df)\\n```\\nThis will give us the following output:\\n```\\n          Date    Open    High     Low   Close  Adj Close\\n0   2018-06-01  153.79  154.29  153.7\"}]"
      ]
     },
     "execution_count": 51,
     "metadata": {},
     "output_type": "execute_result"
    }
   ],
   "source": [
    "messages"
   ]
  },
  {
   "cell_type": "markdown",
   "metadata": {},
   "source": [
    "## 判断是否进行function call用的是markdown的代码框符号"
   ]
  },
  {
   "cell_type": "code",
   "execution_count": 53,
   "metadata": {},
   "outputs": [
    {
     "data": {
      "text/plain": [
       "True"
      ]
     },
     "execution_count": 53,
     "metadata": {},
     "output_type": "execute_result"
    }
   ],
   "source": [
    "condition = messages[-1][\"content\"].count(\"```\") % 2 == 1\n",
    "condition"
   ]
  },
  {
   "cell_type": "markdown",
   "metadata": {},
   "source": [
    "以此来为output切分成不同的block，例如下面是刚从一个普通chat block切换进入code block，func call会在code block中执行（ref：interpreter.py, line 499）\n",
    "```\n",
    "if condition:\n",
    "        # We are in a function call.\n",
    "\n",
    "        # Check if we just entered a function call\n",
    "        if in_function_call == False:  # init值为false\n",
    "\n",
    "          # If so, end the last block,\n",
    "          self.end_active_block()\n",
    "\n",
    "          # Print newline if it was just a code block or user message\n",
    "          # (this just looks nice)\n",
    "          last_role = self.messages[-2][\"role\"]\n",
    "          if last_role == \"user\" or last_role == \"function\":\n",
    "            print()\n",
    "\n",
    "          # then create a new code block\n",
    "          self.active_block = CodeBlock()\n",
    "\n",
    "        # Remember we're in a function_call\n",
    "        in_function_call = True\n",
    "```\n",
    "open interpreter定义了codeblock和messageblock两种分划block"
   ]
  },
  {
   "cell_type": "markdown",
   "metadata": {},
   "source": [
    "## 处理code"
   ]
  },
  {
   "cell_type": "code",
   "execution_count": 54,
   "metadata": {},
   "outputs": [],
   "source": [
    "content = messages[-1][\"content\"]\n",
    "\n",
    "blocks = content.split(\"```\")\n",
    "  \n",
    "current_code_block = blocks[-1]\n",
    "\n",
    "lines = current_code_block.split(\"\\n\")"
   ]
  },
  {
   "cell_type": "code",
   "execution_count": 55,
   "metadata": {},
   "outputs": [
    {
     "data": {
      "text/plain": [
       "{'code': 'Date    Open    High     Low   Close  Adj Close\\n0   2018-06-01  153.79  154.29  153.7',\n",
       " 'language': 'python'}"
      ]
     },
     "execution_count": 55,
     "metadata": {},
     "output_type": "execute_result"
    }
   ],
   "source": [
    "if content.strip() == \"```\": # Hasn't outputted a language yet\n",
    "    language = None\n",
    "else:\n",
    "    language = lines[0].strip() if lines[0] != \"\" else \"python\"\n",
    "\n",
    "# Join all lines except for the language line\n",
    "code = '\\n'.join(lines[1:]).strip(\"` \\n\")\n",
    "\n",
    "arguments = {\"code\": code}\n",
    "if language: # We only add this if we have it-- the second we have it, an interpreter gets fired up (I think? maybe I'm wrong)\n",
    "    arguments[\"language\"] = language\n",
    "\n",
    "arguments"
   ]
  },
  {
   "cell_type": "code",
   "execution_count": 56,
   "metadata": {},
   "outputs": [
    {
     "data": {
      "text/plain": [
       "[{'role': 'system',\n",
       "  'content': \"You are Open Interpreter, a world-class programmer that can complete any goal by executing code.\\nFirst, write a plan. **Always recap the plan between each code block** (you have extreme short-term memory loss, so you need to recap the plan between each message block to retain it).\\nWhen you send a message containing code to run_code, it will be executed **on the user's machine**. The user has given you **full and complete permission** to execute any code necessary to complete the task. You have full access to control their computer to help them. Code entered into run_code will be executed **in the users local environment**.\\nOnly do what the user asks you to do, then ask what they'd like to do next.\\n\\n[User Info]\\nName: yangxiaobo\\nCWD: /mnt/data00/yangxiaobo/llarb/eval/open_interpreter\\nOS: Linux\\n\\nTo run code, write a fenced code block (i.e ```python or ```shell) in markdown. When you close it with ```, it will be run. You'll then be given its output.\"},\n",
       " {'role': 'user',\n",
       "  'content': \"Plot APPL and META's normalized stock prices use python\"},\n",
       " {'role': 'assistant',\n",
       "  'content': \"\\n\\nLet's start with some data. We have APPL and META stock prices from Yahoo Finance. We can use pandas to read the data into a dataframe.\\n```python\\nimport pandas as pd\\ndf = pd.read_csv('stock_prices.csv')\\nprint(df)\\n```\\nThis will give us the following output:\\n```\\n          Date    Open    High     Low   Close  Adj Close\\n0   2018-06-01  153.79  154.29  153.7\",\n",
       "  'function_call': {'parsed_arguments': {'code': 'Date    Open    High     Low   Close  Adj Close\\n0   2018-06-01  153.79  154.29  153.7',\n",
       "    'language': 'python'}}}]"
      ]
     },
     "execution_count": 56,
     "metadata": {},
     "output_type": "execute_result"
    }
   ],
   "source": [
    "if \"function_call\" not in messages[-1]:\n",
    "    messages[-1][\"function_call\"] = {}\n",
    "    \n",
    "messages[-1][\"function_call\"][\"parsed_arguments\"] = arguments \n",
    "messages"
   ]
  },
  {
   "cell_type": "markdown",
   "metadata": {},
   "source": [
    "## 代码的再处理与执行\n",
    "有一个indentation处理？(code_interpreter.py line 176)\n",
    "```\n",
    "if self.language == \"python\":\n",
    "    # This lets us stop execution when error happens (which is not default -i behavior)\n",
    "    # And solves a bunch of indentation problems-- if everything's indented, -i treats it as one block\n",
    "    code = wrap_in_try_except(code)\n",
    "```\n",
    "这里的code就是messages[-1][\"function_call\"][\"parsed_arguments\"]中的code(即self.adaptive_block.code，也即CodeBlock示例的self.code,由update_from_message更新)"
   ]
  },
  {
   "cell_type": "code",
   "execution_count": 57,
   "metadata": {},
   "outputs": [
    {
     "data": {
      "text/plain": [
       "'Date    Open    High     Low   Close  Adj Close\\n0   2018-06-01  153.79  154.29  153.7'"
      ]
     },
     "execution_count": 57,
     "metadata": {},
     "output_type": "execute_result"
    }
   ],
   "source": [
    "code = messages[-1][\"function_call\"][\"parsed_arguments\"][\"code\"]\n",
    "code"
   ]
  },
  {
   "cell_type": "code",
   "execution_count": 58,
   "metadata": {},
   "outputs": [
    {
     "ename": "SyntaxError",
     "evalue": "leading zeros in decimal integer literals are not permitted; use an 0o prefix for octal integers (<unknown>, line 3)",
     "output_type": "error",
     "traceback": [
      "Traceback \u001b[0;36m(most recent call last)\u001b[0m:\n",
      "\u001b[0m  File \u001b[1;32m~/anaconda3/envs/funccall/lib/python3.11/site-packages/IPython/core/interactiveshell.py:3505\u001b[0m in \u001b[1;35mrun_code\u001b[0m\n    exec(code_obj, self.user_global_ns, self.user_ns)\u001b[0m\n",
      "\u001b[0m  Cell \u001b[1;32mIn[58], line 38\u001b[0m\n    code = wrap_in_try_except(code)\u001b[0m\n",
      "\u001b[0m  Cell \u001b[1;32mIn[58], line 8\u001b[0m in \u001b[1;35mwrap_in_try_except\u001b[0m\n    parsed_code = ast.parse(code)\u001b[0m\n",
      "\u001b[0;36m  File \u001b[0;32m~/anaconda3/envs/funccall/lib/python3.11/ast.py:50\u001b[0;36m in \u001b[0;35mparse\u001b[0;36m\n\u001b[0;31m    return compile(source, filename, mode, flags,\u001b[0;36m\n",
      "\u001b[0;36m  File \u001b[0;32m<unknown>:3\u001b[0;36m\u001b[0m\n\u001b[0;31m    0   2018-06-01  153.79  154.29  153.7\u001b[0m\n\u001b[0m             ^\u001b[0m\n\u001b[0;31mSyntaxError\u001b[0m\u001b[0;31m:\u001b[0m leading zeros in decimal integer literals are not permitted; use an 0o prefix for octal integers\n"
     ]
    }
   ],
   "source": [
    "import ast\n",
    "\n",
    "def wrap_in_try_except(code):\n",
    "    # Add import traceback\n",
    "    code = \"import traceback\\n\" + code\n",
    "\n",
    "    # Parse the input code into an AST\n",
    "    parsed_code = ast.parse(code)\n",
    "\n",
    "    # Wrap the entire code's AST in a single try-except block\n",
    "    try_except = ast.Try(\n",
    "        body=parsed_code.body,\n",
    "        handlers=[\n",
    "            ast.ExceptHandler(\n",
    "                type=ast.Name(id=\"Exception\", ctx=ast.Load()),\n",
    "                name=None,\n",
    "                body=[\n",
    "                    ast.Expr(\n",
    "                        value=ast.Call(\n",
    "                            func=ast.Attribute(value=ast.Name(id=\"traceback\", ctx=ast.Load()), attr=\"print_exc\", ctx=ast.Load()),\n",
    "                            args=[],\n",
    "                            keywords=[]\n",
    "                        )\n",
    "                    ),\n",
    "                ]\n",
    "            )\n",
    "        ],\n",
    "        orelse=[],\n",
    "        finalbody=[]\n",
    "    )\n",
    "\n",
    "    # Assign the try-except block as the new body\n",
    "    parsed_code.body = [try_except]\n",
    "\n",
    "    # Convert the modified AST back to source code\n",
    "    return ast.unparse(parsed_code)\n",
    "\n",
    "code = wrap_in_try_except(code)"
   ]
  },
  {
   "cell_type": "markdown",
   "metadata": {},
   "source": [
    "报错是因为model的output并不好，output卡在一个并非是code的block停止了：\n",
    "\n",
    "\n",
    "\n",
    "Let's start with some data. We have APPL and META stock prices from Yahoo Finance. We can use pandas to read the data into a dataframe.\n",
    "```python\n",
    "import pandas as pd\n",
    "df = pd.read_csv('stock_prices.csv')\n",
    "print(df)\n",
    "```\n",
    "This will give us the following output:\n",
    "```\n",
    "          Date    Open    High     Low   Close  Adj Close\n",
    "0   2018-06-01  153.79  154.29  153.7\n"
   ]
  },
  {
   "cell_type": "code",
   "execution_count": 85,
   "metadata": {},
   "outputs": [
    {
     "data": {
      "text/plain": [
       "\"import pandas as pd\\ndf = pd.read_csv('stock_prices.csv')\\nprint(df)\""
      ]
     },
     "execution_count": 85,
     "metadata": {},
     "output_type": "execute_result"
    }
   ],
   "source": [
    "# 为了进行后续测试我们手动让code变正常\n",
    "content = \"\"\"\n",
    "\n",
    "Let's start with some data. We have APPL and META stock prices from Yahoo Finance. We can use pandas to read the data into a dataframe.\n",
    "```python\n",
    "import pandas as pd\n",
    "df = pd.read_csv('stock_prices.csv')\n",
    "print(df)\"\"\"\n",
    "blocks = content.split(\"```\")\n",
    "current_code_block = blocks[-1]\n",
    "lines = current_code_block.split(\"\\n\")\n",
    "if content.strip() == \"```\": # Hasn't outputted a language yet\n",
    "    language = None\n",
    "else:\n",
    "    language = lines[0].strip() if lines[0] != \"\" else \"python\"\n",
    "\n",
    "# Join all lines except for the language line\n",
    "code = '\\n'.join(lines[1:]).strip(\"` \\n\")\n",
    "\n",
    "arguments = {\"code\": code}\n",
    "if language: # We only add this if we have it-- the second we have it, an interpreter gets fired up (I think? maybe I'm wrong)\n",
    "    arguments[\"language\"] = language\n",
    "\n",
    "if \"function_call\" not in messages[-1]:\n",
    "    messages[-1][\"function_call\"] = {}\n",
    "    \n",
    "messages[-1][\"function_call\"][\"parsed_arguments\"] = arguments \n",
    "code = messages[-1][\"function_call\"][\"parsed_arguments\"][\"code\"]\n",
    "code"
   ]
  },
  {
   "cell_type": "code",
   "execution_count": 86,
   "metadata": {},
   "outputs": [
    {
     "name": "stdout",
     "output_type": "stream",
     "text": [
      "import pandas as pd\n",
      "df = pd.read_csv('stock_prices.csv')\n",
      "print(df)\n"
     ]
    }
   ],
   "source": [
    "print(code)"
   ]
  },
  {
   "cell_type": "code",
   "execution_count": 87,
   "metadata": {},
   "outputs": [],
   "source": [
    "code = wrap_in_try_except(code)"
   ]
  },
  {
   "cell_type": "code",
   "execution_count": 88,
   "metadata": {},
   "outputs": [
    {
     "name": "stdout",
     "output_type": "stream",
     "text": [
      "try:\n",
      "    import traceback\n",
      "    import pandas as pd\n",
      "    df = pd.read_csv('stock_prices.csv')\n",
      "    print(df)\n",
      "except Exception:\n",
      "    traceback.print_exc()\n"
     ]
    }
   ],
   "source": [
    "print(code)"
   ]
  },
  {
   "cell_type": "code",
   "execution_count": 73,
   "metadata": {},
   "outputs": [
    {
     "name": "stderr",
     "output_type": "stream",
     "text": [
      "Traceback (most recent call last):\n",
      "  File \"/tmp/ipykernel_3725297/3393160823.py\", line 4, in <module>\n",
      "    df = pd.read_csv('stock_prices.csv')\n",
      "         ^^^^^^^^^^^^^^^^^^^^^^^^^^^^^^^\n",
      "  File \"/mnt/data00/yangxiaobo/anaconda3/envs/funccall/lib/python3.11/site-packages/pandas/util/_decorators.py\", line 211, in wrapper\n",
      "    return func(*args, **kwargs)\n",
      "           ^^^^^^^^^^^^^^^^^^^^^\n",
      "  File \"/mnt/data00/yangxiaobo/anaconda3/envs/funccall/lib/python3.11/site-packages/pandas/util/_decorators.py\", line 331, in wrapper\n",
      "    return func(*args, **kwargs)\n",
      "           ^^^^^^^^^^^^^^^^^^^^^\n",
      "  File \"/mnt/data00/yangxiaobo/anaconda3/envs/funccall/lib/python3.11/site-packages/pandas/io/parsers/readers.py\", line 950, in read_csv\n",
      "    return _read(filepath_or_buffer, kwds)\n",
      "           ^^^^^^^^^^^^^^^^^^^^^^^^^^^^^^^\n",
      "  File \"/mnt/data00/yangxiaobo/anaconda3/envs/funccall/lib/python3.11/site-packages/pandas/io/parsers/readers.py\", line 605, in _read\n",
      "    parser = TextFileReader(filepath_or_buffer, **kwds)\n",
      "             ^^^^^^^^^^^^^^^^^^^^^^^^^^^^^^^^^^^^^^^^^^\n",
      "  File \"/mnt/data00/yangxiaobo/anaconda3/envs/funccall/lib/python3.11/site-packages/pandas/io/parsers/readers.py\", line 1442, in __init__\n",
      "    self._engine = self._make_engine(f, self.engine)\n",
      "                   ^^^^^^^^^^^^^^^^^^^^^^^^^^^^^^^^^\n",
      "  File \"/mnt/data00/yangxiaobo/anaconda3/envs/funccall/lib/python3.11/site-packages/pandas/io/parsers/readers.py\", line 1735, in _make_engine\n",
      "    self.handles = get_handle(\n",
      "                   ^^^^^^^^^^^\n",
      "  File \"/mnt/data00/yangxiaobo/anaconda3/envs/funccall/lib/python3.11/site-packages/pandas/io/common.py\", line 856, in get_handle\n",
      "    handle = open(\n",
      "             ^^^^^\n",
      "FileNotFoundError: [Errno 2] No such file or directory: 'stock_prices.csv'\n"
     ]
    }
   ],
   "source": [
    "# 测试上述code文本的执行\n",
    "try:\n",
    "    import traceback\n",
    "    import pandas as pd\n",
    "    df = pd.read_csv('stock_prices.csv')\n",
    "    print(df)\n",
    "except Exception:\n",
    "    traceback.print_exc()"
   ]
  },
  {
   "cell_type": "code",
   "execution_count": 90,
   "metadata": {},
   "outputs": [
    {
     "name": "stdout",
     "output_type": "stream",
     "text": [
      "try:\n",
      "    import traceback\n",
      "    import pandas as pd\n",
      "    df = pd.read_csv('stock_prices.csv')\n",
      "    print(df)\n",
      "except Exception:\n",
      "    traceback.print_exc()\n"
     ]
    }
   ],
   "source": [
    "# 源代码的另一个处理：去掉空白行\n",
    "# Remove any whitespace lines, as this will break indented blocks\n",
    "# (are we sure about this? test this)\n",
    "code_lines = code.split(\"\\n\")\n",
    "code_lines = [c for c in code_lines if c.strip() != \"\"]\n",
    "code = \"\\n\".join(code_lines)\n",
    "\n",
    "print(code)"
   ]
  },
  {
   "cell_type": "markdown",
   "metadata": {},
   "source": [
    "## 执行代码\n",
    "以下截取自code_interpreter.py（class CodeInterpreter中run方法）的重新整合"
   ]
  },
  {
   "cell_type": "code",
   "execution_count": 106,
   "metadata": {},
   "outputs": [
    {
     "name": "stdout",
     "output_type": "stream",
     "text": [
      "out:\n",
      "  \n",
      " err:\n",
      " >>> ... ... ... ... ... ... ... \n",
      "Traceback (most recent call last):\n",
      "  File \"<stdin>\", line 4, in <module>\n",
      "  File \"/mnt/data00/yangxiaobo/anaconda3/envs/funccall/lib/python3.11/site-packages/pandas/util/_decorators.py\", line 211, in wrapper\n",
      "    return func(*args, **kwargs)\n",
      "           ^^^^^^^^^^^^^^^^^^^^^\n",
      "  File \"/mnt/data00/yangxiaobo/anaconda3/envs/funccall/lib/python3.11/site-packages/pandas/util/_decorators.py\", line 331, in wrapper\n",
      "    return func(*args, **kwargs)\n",
      "           ^^^^^^^^^^^^^^^^^^^^^\n",
      "  File \"/mnt/data00/yangxiaobo/anaconda3/envs/funccall/lib/python3.11/site-packages/pandas/io/parsers/readers.py\", line 950, in read_csv\n",
      "    return _read(filepath_or_buffer, kwds)\n",
      "           ^^^^^^^^^^^^^^^^^^^^^^^^^^^^^^^\n",
      "  File \"/mnt/data00/yangxiaobo/anaconda3/envs/funccall/lib/python3.11/site-packages/pandas/io/parsers/readers.py\", line 605, in _read\n",
      "    parser = TextFileReader(filepath_or_buffer, **kwds)\n",
      "             ^^^^^^^^^^^^^^^^^^^^^^^^^^^^^^^^^^^^^^^^^^\n",
      "  File \"/mnt/data00/yangxiaobo/anaconda3/envs/funccall/lib/python3.11/site-packages/pandas/io/parsers/readers.py\", line 1442, in __init__\n",
      "    self._engine = self._make_engine(f, self.engine)\n",
      "                   ^^^^^^^^^^^^^^^^^^^^^^^^^^^^^^^^^\n",
      "  File \"/mnt/data00/yangxiaobo/anaconda3/envs/funccall/lib/python3.11/site-packages/pandas/io/parsers/readers.py\", line 1735, in _make_engine\n",
      "    self.handles = get_handle(\n",
      "                   ^^^^^^^^^^^\n",
      "  File \"/mnt/data00/yangxiaobo/anaconda3/envs/funccall/lib/python3.11/site-packages/pandas/io/common.py\", line 856, in get_handle\n",
      "    handle = open(\n",
      "             ^^^^^\n",
      "FileNotFoundError: [Errno 2] No such file or directory: 'stock_prices.csv'\n",
      ">>> \n",
      "\n"
     ]
    }
   ],
   "source": [
    "import subprocess\n",
    "import sys\n",
    "\n",
    "start_cmd = sys.executable + \" -i -q -u\"\n",
    "proc = subprocess.Popen(start_cmd.split(),\n",
    "                        stdin=subprocess.PIPE,\n",
    "                        stdout=subprocess.PIPE,\n",
    "                        stderr=subprocess.PIPE,\n",
    "                        text=True,\n",
    "                        bufsize=0)\n",
    "\n",
    "proc.stdin.write(code + \"\\n\")\n",
    "proc.stdin.flush()\n",
    "out, err = proc.communicate()\n",
    "print('out:\\n', out,'\\n', 'err:\\n',err)"
   ]
  },
  {
   "cell_type": "markdown",
   "metadata": {},
   "source": [
    "而human-eval的解释器更简单，直接用内置函数exec执行"
   ]
  },
  {
   "cell_type": "markdown",
   "metadata": {},
   "source": []
  }
 ],
 "metadata": {
  "kernelspec": {
   "display_name": "funccall",
   "language": "python",
   "name": "python3"
  },
  "language_info": {
   "codemirror_mode": {
    "name": "ipython",
    "version": 3
   },
   "file_extension": ".py",
   "mimetype": "text/x-python",
   "name": "python",
   "nbconvert_exporter": "python",
   "pygments_lexer": "ipython3",
   "version": "3.11.4"
  },
  "orig_nbformat": 4
 },
 "nbformat": 4,
 "nbformat_minor": 2
}
